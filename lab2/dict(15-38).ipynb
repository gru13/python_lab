{
 "cells": [
  {
   "cell_type": "markdown",
   "metadata": {},
   "source": []
  },
  {
   "cell_type": "code",
   "execution_count": 10,
   "metadata": {},
   "outputs": [
    {
     "name": "stdout",
     "output_type": "stream",
     "text": [
      "Maximum Value: 20\n",
      "Minimum Value: 5\n"
     ]
    }
   ],
   "source": [
    "\n",
    "my_dict = {'a': 10, 'b': 5, 'c': 20, 'd': 15}\n",
    "\n",
    "max_value = max(my_dict.values())\n",
    "min_value = min(my_dict.values())\n",
    "\n",
    "print(\"Maximum Value:\", max_value)\n",
    "print(\"Minimum Value:\", min_value)\n"
   ]
  },
  {
   "cell_type": "code",
   "execution_count": 11,
   "metadata": {},
   "outputs": [],
   "source": [
    "#16\n"
   ]
  },
  {
   "cell_type": "code",
   "execution_count": 12,
   "metadata": {},
   "outputs": [
    {
     "name": "stdout",
     "output_type": "stream",
     "text": [
      "{'a': 1, 'b': 2, 'd': 3}\n"
     ]
    }
   ],
   "source": [
    "#17\n",
    "my_dict = {'a': 1, 'b': 2, 'c': 1, 'd': 3, 'e': 2}\n",
    "\n",
    "unique_dict = {}\n",
    "\n",
    "for key, value in my_dict.items():\n",
    "    if value not in unique_dict.values():\n",
    "        unique_dict[key] = value\n",
    "\n",
    "print(unique_dict)\n"
   ]
  },
  {
   "cell_type": "code",
   "execution_count": 13,
   "metadata": {},
   "outputs": [
    {
     "name": "stdout",
     "output_type": "stream",
     "text": [
      "The dictionary is empty.\n"
     ]
    }
   ],
   "source": [
    "#18\n",
    "my_dict = {}\n",
    "\n",
    "if not my_dict:\n",
    "    print(\"The dictionary is empty.\")\n",
    "else:\n",
    "    print(\"The dictionary is not empty.\")\n"
   ]
  },
  {
   "cell_type": "code",
   "execution_count": 14,
   "metadata": {},
   "outputs": [
    {
     "name": "stdout",
     "output_type": "stream",
     "text": [
      "{'b': 400, 'd': 400, 'c': 300, 'a': 400}\n"
     ]
    }
   ],
   "source": [
    "#19\n",
    "d1 = {'a': 100, 'b': 200, 'c': 300}\n",
    "d2 = {'a': 300, 'b': 200, 'd': 400}\n",
    "\n",
    "combined_dict = {}\n",
    "for key in set(d1.keys()) | set(d2.keys()):\n",
    "    combined_dict[key] = d1.get(key, 0) + d2.get(key, 0)\n",
    "\n",
    "print(combined_dict)\n"
   ]
  },
  {
   "cell_type": "code",
   "execution_count": 15,
   "metadata": {},
   "outputs": [
    {
     "name": "stdout",
     "output_type": "stream",
     "text": [
      "Unique Values: {'S001', 'S002', 'S007', 'S005', 'S009'}\n"
     ]
    }
   ],
   "source": [
    "#20\n",
    "data = [{\"V\":\"S001\"}, {\"V\": \"S002\"}, {\"VI\": \"S001\"}, {\"VI\": \"S005\"}, {\"VII\":\"S005\"}, {\"V\":\"S009\"},{\"VIII\":\"S007\"}]\n",
    "\n",
    "distinct_values = set()\n",
    "\n",
    "for item in data:\n",
    "    for value in item.values():\n",
    "        distinct_values.add(value)\n",
    "\n",
    "print(\"Unique Values:\", distinct_values)\n"
   ]
  },
  {
   "cell_type": "code",
   "execution_count": 16,
   "metadata": {},
   "outputs": [
    {
     "name": "stdout",
     "output_type": "stream",
     "text": [
      "ac\n",
      "bc\n",
      "ad\n",
      "bd\n"
     ]
    }
   ],
   "source": [
    "#21\n",
    "def generate_combinations(dictionary):\n",
    "    keys = dictionary.keys()\n",
    "    combinations = [[]]\n",
    "\n",
    "    for key in keys:\n",
    "        new_combinations = []\n",
    "        for letter in dictionary[key]:\n",
    "            for combination in combinations:\n",
    "                new_combinations.append(combination + [letter])\n",
    "        combinations = new_combinations\n",
    "\n",
    "    for combination in combinations:\n",
    "        print(''.join(combination))\n",
    "\n",
    "\n",
    "my_dict = {'1':['a','b'], '2':['c','d']}\n",
    "\n",
    "generate_combinations(my_dict)\n"
   ]
  },
  {
   "cell_type": "code",
   "execution_count": 17,
   "metadata": {},
   "outputs": [
    {
     "name": "stdout",
     "output_type": "stream",
     "text": [
      "key1: 30\n",
      "key5: 50\n",
      "key3: 45\n"
     ]
    }
   ],
   "source": [
    "#22\n",
    "my_dict = {\n",
    "    'key1': 30,\n",
    "    'key2': 15,\n",
    "    'key3': 45,\n",
    "    'key4': 20,\n",
    "    'key5': 50\n",
    "}\n",
    "\n",
    "highest_values = []\n",
    "highest_keys = []\n",
    "\n",
    "for key, value in my_dict.items():\n",
    "    if len(highest_values) < 3:\n",
    "        highest_values.append(value)\n",
    "        highest_keys.append(key)\n",
    "    else:\n",
    "        min_index = highest_values.index(min(highest_values))\n",
    "        if value > highest_values[min_index]:\n",
    "            highest_values[min_index] = value\n",
    "            highest_keys[min_index] = key\n",
    "\n",
    "for key, value in zip(highest_keys, highest_values):\n",
    "    print(f\"{key}: {value}\")\n"
   ]
  },
  {
   "cell_type": "code",
   "execution_count": 18,
   "metadata": {},
   "outputs": [
    {
     "name": "stdout",
     "output_type": "stream",
     "text": [
      "{'item1': 1150, 'item2': 300}\n"
     ]
    }
   ],
   "source": [
    "#23\n",
    "data = [{'item': 'item1', 'amount': 400},\n",
    "        {'item': 'item2', 'amount': 300},\n",
    "        {'item': 'item1', 'amount': 750}]\n",
    "\n",
    "combined_data = {}\n",
    "\n",
    "for d in data:\n",
    "    item = d['item']\n",
    "    amount = d['amount']\n",
    "    if item in combined_data:\n",
    "        combined_data[item] += amount\n",
    "    else:\n",
    "        combined_data[item] = amount\n",
    "\n",
    "print(combined_data)\n"
   ]
  },
  {
   "cell_type": "code",
   "execution_count": 19,
   "metadata": {},
   "outputs": [
    {
     "name": "stdout",
     "output_type": "stream",
     "text": [
      "{'w': 1, '3': 1, 'r': 2, 'e': 2, 's': 1, 'o': 1, 'u': 1, 'c': 1}\n"
     ]
    }
   ],
   "source": [
    "#24\n",
    "my_string = 'w3resource'\n",
    "letter_counts = {}\n",
    "\n",
    "for letter in my_string:\n",
    "    if letter in letter_counts:\n",
    "        letter_counts[letter] += 1\n",
    "    else:\n",
    "        letter_counts[letter] = 1\n",
    "\n",
    "print(letter_counts)\n"
   ]
  },
  {
   "cell_type": "code",
   "execution_count": 20,
   "metadata": {},
   "outputs": [
    {
     "name": "stdout",
     "output_type": "stream",
     "text": [
      "+------------+----------+\n",
      "| name       | John     |\n",
      "| age        | 30       |\n",
      "| city       | New York |\n",
      "| occupation | Engineer |\n",
      "+------------+----------+\n"
     ]
    }
   ],
   "source": [
    "#25\n",
    "my_dict = {\n",
    "    'name': 'John',\n",
    "    'age': 30,\n",
    "    'city': 'New York',\n",
    "    'occupation': 'Engineer'\n",
    "}\n",
    "\n",
    "max_key_length = max(len(key) for key in my_dict)\n",
    "max_value_length = max(len(str(value)) for value in my_dict.values())\n",
    "\n",
    "print(f\"+{'-' * (max_key_length + 2)}+{'-' * (max_value_length + 2)}+\")\n",
    "for key, value in my_dict.items():\n",
    "    print(f\"| {key:<{max_key_length}} | {value:<{max_value_length}} |\")\n",
    "print(f\"+{'-' * (max_key_length + 2)}+{'-' * (max_value_length + 2)}+\")\n"
   ]
  },
  {
   "cell_type": "code",
   "execution_count": 21,
   "metadata": {},
   "outputs": [
    {
     "name": "stdout",
     "output_type": "stream",
     "text": [
      "6: 3\n",
      "2: 1\n",
      "3: 1\n"
     ]
    }
   ],
   "source": [
    "#26\n",
    "my_dict = {\n",
    "    'key1': 6,\n",
    "    'key2': 2,\n",
    "    'key3': 6,\n",
    "    'key4': 3,\n",
    "    'key5': 6\n",
    "}\n",
    "\n",
    "value_counts = {}\n",
    "\n",
    "for key, value in my_dict.items():\n",
    "    if value in value_counts:\n",
    "        value_counts[value] += 1\n",
    "    else:\n",
    "        value_counts[value] = 1\n",
    "\n",
    "for value, count in value_counts.items():\n",
    "    print(f\"{value}: {count}\")\n"
   ]
  },
  {
   "cell_type": "code",
   "execution_count": 22,
   "metadata": {},
   "outputs": [
    {
     "name": "stdout",
     "output_type": "stream",
     "text": [
      "{'a': {'b': {'c': {'d': None}}}}\n"
     ]
    }
   ],
   "source": [
    "#27\n",
    "\n",
    "my_list = ['a', 'b', 'c', 'd']\n",
    "nested_dict = {}\n",
    "current_dict = nested_dict\n",
    "for item in my_list[:-1]:\n",
    "    current_dict[item] = {}\n",
    "    current_dict = current_dict[item]\n",
    "\n",
    "current_dict[my_list[-1]] = None\n",
    "\n",
    "print(nested_dict)\n"
   ]
  },
  {
   "cell_type": "code",
   "execution_count": 23,
   "metadata": {},
   "outputs": [
    {
     "name": "stdout",
     "output_type": "stream",
     "text": [
      "{'fruits': ['apple', 'banana', 'grape', 'orange'], 'colors': ['blue', 'green', 'red', 'yellow'], 'animals': ['cat', 'dog', 'elephant', 'lion']}\n"
     ]
    }
   ],
   "source": [
    "#28\n",
    "my_dict = {\n",
    "    'fruits': ['apple', 'orange', 'banana', 'grape'],\n",
    "    'colors': ['red', 'blue', 'green', 'yellow'],\n",
    "    'animals': ['dog', 'cat', 'elephant', 'lion']\n",
    "}\n",
    "\n",
    "for key, value in my_dict.items():\n",
    "    my_dict[key] = sorted(value)\n",
    "\n",
    "print(my_dict)\n"
   ]
  },
  {
   "cell_type": "code",
   "execution_count": 24,
   "metadata": {},
   "outputs": [
    {
     "name": "stdout",
     "output_type": "stream",
     "text": [
      "{'key1': 1, 'key2': 2, 'key3': 3, 'key4': 4, 'key5': 5}\n"
     ]
    }
   ],
   "source": [
    "#29\n",
    "my_dict = {\n",
    "    'key 1': 1,\n",
    "    'key 2': 2,\n",
    "    'key 3': 3,\n",
    "    'key 4': 4,\n",
    "    'key 5': 5\n",
    "}\n",
    "\n",
    "new_dict = {key.replace(' ', ''): value for key, value in my_dict.items()}\n",
    "\n",
    "print(new_dict)\n"
   ]
  },
  {
   "cell_type": "code",
   "execution_count": 25,
   "metadata": {},
   "outputs": [
    {
     "name": "stdout",
     "output_type": "stream",
     "text": [
      "item4 55\n",
      "item1 45.5\n",
      "item3 41.3\n"
     ]
    }
   ],
   "source": [
    "#30\n",
    "shop_items = {\n",
    "    'item1': 45.50,\n",
    "    'item2': 35,\n",
    "    'item3': 41.30,\n",
    "    'item4': 55,\n",
    "    'item5': 24\n",
    "}\n",
    "\n",
    "first_item = None\n",
    "second_item = None\n",
    "third_item = None\n",
    "\n",
    "for item, price in shop_items.items():\n",
    "    if first_item is None or price > shop_items[first_item]:\n",
    "        third_item = second_item\n",
    "        second_item = first_item\n",
    "        first_item = item\n",
    "    elif second_item is None or price > shop_items[second_item]:\n",
    "        third_item = second_item\n",
    "        second_item = item\n",
    "    elif third_item is None or price > shop_items[third_item]:\n",
    "        third_item = item\n",
    "\n",
    "print(first_item, shop_items[first_item])\n",
    "print(second_item, shop_items[second_item])\n",
    "print(third_item, shop_items[third_item])\n"
   ]
  },
  {
   "cell_type": "code",
   "execution_count": 26,
   "metadata": {},
   "outputs": [
    {
     "name": "stdout",
     "output_type": "stream",
     "text": [
      "Key: key1\n",
      "Value: 1\n",
      "Item: ('key1', 1)\n",
      "---\n",
      "Key: key2\n",
      "Value: 2\n",
      "Item: ('key2', 2)\n",
      "---\n",
      "Key: key3\n",
      "Value: 3\n",
      "Item: ('key3', 3)\n",
      "---\n",
      "Key: key4\n",
      "Value: 4\n",
      "Item: ('key4', 4)\n",
      "---\n",
      "Key: key5\n",
      "Value: 5\n",
      "Item: ('key5', 5)\n",
      "---\n"
     ]
    }
   ],
   "source": [
    "#31\n",
    "my_dict = {\n",
    "    'key1': 1,\n",
    "    'key2': 2,\n",
    "    'key3': 3,\n",
    "    'key4': 4,\n",
    "    'key5': 5\n",
    "}\n",
    "\n",
    "for key, value in my_dict.items():\n",
    "    print(\"Key:\", key)\n",
    "    print(\"Value:\", value)\n",
    "    print(\"Item:\", (key, value))\n",
    "    print(\"---\")\n"
   ]
  },
  {
   "cell_type": "code",
   "execution_count": 27,
   "metadata": {},
   "outputs": [
    {
     "name": "stdout",
     "output_type": "stream",
     "text": [
      "key1: 1\n",
      "key2: 2\n",
      "key3: 3\n",
      "key4: 4\n",
      "key5: 5\n"
     ]
    }
   ],
   "source": [
    "#32\n",
    "my_dict = {\n",
    "    'key1': 1,\n",
    "    'key2': 2,\n",
    "    'key3': 3,\n",
    "    'key4': 4,\n",
    "    'key5': 5\n",
    "}\n",
    "\n",
    "for key, value in my_dict.items():\n",
    "    print(f\"{key}: {value}\")\n"
   ]
  },
  {
   "cell_type": "code",
   "execution_count": 28,
   "metadata": {},
   "outputs": [
    {
     "name": "stdout",
     "output_type": "stream",
     "text": [
      "The key 'key1' exists in the dictionary.\n",
      "The key 'key3' exists in the dictionary.\n",
      "The key 'key6' does not exist in the dictionary.\n"
     ]
    }
   ],
   "source": [
    "#33\n",
    "my_dict = {\n",
    "    'key1': 1,\n",
    "    'key2': 2,\n",
    "    'key3': 3,\n",
    "    'key4': 4,\n",
    "    'key5': 5\n",
    "}\n",
    "\n",
    "keys_to_check = ['key1', 'key3', 'key6']\n",
    "\n",
    "for key in keys_to_check:\n",
    "    if key in my_dict:\n",
    "        print(f\"The key '{key}' exists in the dictionary.\")\n",
    "    else:\n",
    "        print(f\"The key '{key}' does not exist in the dictionary.\")\n"
   ]
  },
  {
   "cell_type": "code",
   "execution_count": 29,
   "metadata": {},
   "outputs": [
    {
     "name": "stdout",
     "output_type": "stream",
     "text": [
      "Number of items that are lists: 4\n"
     ]
    }
   ],
   "source": [
    "#34\n",
    "my_dict = {\n",
    "    'list1': [1, 2, 3],\n",
    "    'list2': [4, 5],\n",
    "    'list3': [6, 7, 8, 9],\n",
    "    'non_list': 'Not a list',\n",
    "    'empty_list': []\n",
    "}\n",
    "\n",
    "list_count = 0\n",
    "\n",
    "for value in my_dict.values():\n",
    "    if type(value) is list:\n",
    "        list_count += 1\n",
    "\n",
    "print(\"Number of items that are lists:\", list_count)\n"
   ]
  },
  {
   "cell_type": "code",
   "execution_count": 30,
   "metadata": {},
   "outputs": [],
   "source": [
    "#35\n"
   ]
  },
  {
   "cell_type": "code",
   "execution_count": 31,
   "metadata": {},
   "outputs": [
    {
     "name": "stdout",
     "output_type": "stream",
     "text": [
      "{'Class-V': {1}, 'Class-VI': {2}, 'Class-VII': {2}, 'Class-VIII': {3}}\n"
     ]
    }
   ],
   "source": [
    "#36\n",
    "class_names = ['Class-V', 'Class-VI', 'Class-VII', 'Class-VIII']\n",
    "class_numbers = [1, 2, 2, 3]\n",
    "\n",
    "result_dict = {}\n",
    "\n",
    "for i in range(len(class_names)):\n",
    "    class_name = class_names[i]\n",
    "    class_number = class_numbers[i]\n",
    "    \n",
    "    if class_name in result_dict:\n",
    "        result_dict[class_name].add(class_number)\n",
    "    else:\n",
    "        result_dict[class_name] = {class_number}\n",
    "\n",
    "print(result_dict)\n"
   ]
  },
  {
   "cell_type": "code",
   "execution_count": 32,
   "metadata": {},
   "outputs": [
    {
     "name": "stdout",
     "output_type": "stream",
     "text": [
      "{'key1': 6, 'key2': 6, 'key3': 6}\n"
     ]
    }
   ],
   "source": [
    "#37\n",
    "my_dict = {'key1': 1, 'key2': 3, 'key3': 2}\n",
    "\n",
    "sum_values = sum(my_dict.values())\n",
    "\n",
    "for key in my_dict:\n",
    "    my_dict[key] = sum_values\n",
    "\n",
    "print(my_dict)\n"
   ]
  },
  {
   "cell_type": "code",
   "execution_count": 33,
   "metadata": {},
   "outputs": [
    {
     "name": "stdout",
     "output_type": "stream",
     "text": [
      "key1: 1 is present in both x and y\n",
      "key2: 3 is present in both x and y\n"
     ]
    }
   ],
   "source": [
    "# 38\n",
    "x = {'key1': 1, 'key2': 3, 'key3': 2}\n",
    "y = {'key1': 1, 'key2': 3}\n",
    "\n",
    "for key_x, value_x in x.items():\n",
    "    for key_y, value_y in y.items():\n",
    "        if key_x == key_y and value_x == value_y:\n",
    "            print(f\"{key_x}: {value_x} is present in both x and y\")\n",
    "\n"
   ]
  }
 ],
 "metadata": {
  "kernelspec": {
   "display_name": "Python 3",
   "language": "python",
   "name": "python3"
  },
  "language_info": {
   "codemirror_mode": {
    "name": "ipython",
    "version": 3
   },
   "file_extension": ".py",
   "mimetype": "text/x-python",
   "name": "python",
   "nbconvert_exporter": "python",
   "pygments_lexer": "ipython3",
   "version": "3.9.0"
  },
  "orig_nbformat": 4
 },
 "nbformat": 4,
 "nbformat_minor": 2
}

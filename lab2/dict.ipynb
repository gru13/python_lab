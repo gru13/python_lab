{
 "cells": [
  {
   "cell_type": "markdown",
   "metadata": {},
   "source": [
    "1. Write a Python script to sort (ascending and descending) a dictionary by value"
   ]
  },
  {
   "cell_type": "code",
   "execution_count": 41,
   "metadata": {},
   "outputs": [
    {
     "name": "stdout",
     "output_type": "stream",
     "text": [
      "[(0, 1), (22, 32), (1, 33), (4, 99)]\n",
      "[(4, 99), (1, 33), (22, 32), (0, 1)]\n"
     ]
    }
   ],
   "source": [
    "_1 = {1:33,22:32,4:99,0:1}\n",
    "_1_ans = _1.items() # this give list with(key, value) tuple\n",
    "_1_ascending = sorted(_1_ans,key=lambda x:x[1])\n",
    "_1_decent = sorted(_1_ans,key=lambda x:x[1])[::-1]\n",
    "print(_1_ascending)\n",
    "print(_1_decent)"
   ]
  },
  {
   "cell_type": "markdown",
   "metadata": {},
   "source": [
    "2. Write a Python script to add a key to a dictionary.\n",
    "\n",
    "Sample Dictionary : {0: 10, 1: 20}\n",
    "Expected Result : {0: 10, 1: 20, 2: 30}"
   ]
  },
  {
   "cell_type": "code",
   "execution_count": 42,
   "metadata": {},
   "outputs": [
    {
     "name": "stdout",
     "output_type": "stream",
     "text": [
      "{0: 10, 1: 20, 2: 30}\n"
     ]
    }
   ],
   "source": [
    "_2 = {0: 10, 1: 20}\n",
    "_2[2] = 30\n",
    "print(_2)"
   ]
  },
  {
   "cell_type": "markdown",
   "metadata": {},
   "source": [
    "3. Write a Python script to concatenate the following dictionaries to create a new one.\n",
    "\n",
    "Sample Dictionary :\n",
    "dic1={1:10, 2:20}\n",
    "dic2={3:30, 4:40}\n",
    "dic3={5:50,6:60}\n",
    "Expected Result : {1: 10, 2: 20, 3: 30, 4: 40, 5: 50, 6: 60}"
   ]
  },
  {
   "cell_type": "code",
   "execution_count": 43,
   "metadata": {},
   "outputs": [
    {
     "name": "stdout",
     "output_type": "stream",
     "text": [
      "{1: 10, 2: 20, 3: 30, 4: 40, 5: 50, 6: 60}\n"
     ]
    }
   ],
   "source": [
    "_3_dic1={1:10, 2:20}\n",
    "_3_dic2={3:30, 4:40}\n",
    "_3_dic3={5:50,6:60}\n",
    "_3_ans = {}\n",
    "_3_ans.update(_3_dic1)\n",
    "_3_ans.update(_3_dic2)\n",
    "_3_ans.update(_3_dic3)\n",
    "print(_3_ans)"
   ]
  },
  {
   "cell_type": "markdown",
   "metadata": {},
   "source": [
    "4. Write a Python script to check whether a given key already exists in a dictionary"
   ]
  },
  {
   "cell_type": "code",
   "execution_count": 44,
   "metadata": {},
   "outputs": [
    {
     "name": "stdout",
     "output_type": "stream",
     "text": [
      "yes\n"
     ]
    }
   ],
   "source": [
    "_4_dict = {1: 10, 2: 20, 3: 30, 4: 40, 5: 50, 6: 60}\n",
    "Key = 1\n",
    "if  Key in _4_dict.keys():\n",
    "    print(\"yes\")\n",
    "else:\n",
    "    print(\"no\")"
   ]
  },
  {
   "cell_type": "markdown",
   "metadata": {},
   "source": [
    "5. Write a Python program to iterate over dictionaries using for loops."
   ]
  },
  {
   "cell_type": "code",
   "execution_count": 45,
   "metadata": {},
   "outputs": [
    {
     "name": "stdout",
     "output_type": "stream",
     "text": [
      "1 10\n",
      "2 20\n",
      "3 30\n",
      "4 40\n",
      "5 50\n",
      "6 60\n"
     ]
    }
   ],
   "source": [
    "_5_dict = {1: 10, 2: 20, 3: 30, 4: 40, 5: 50, 6: 60}\n",
    "for (k,v) in _5_dict.items():\n",
    "    print(k,v)"
   ]
  },
  {
   "cell_type": "markdown",
   "metadata": {},
   "source": [
    "6. Write a Python script to generate and print a dictionary that contains a number\n",
    "\n",
    "(between 1 and n) in the form (x, x*x).\n",
    "Sample Dictionary ( n = 5) :\n",
    "Expected Output : {1: 1, 2: 4, 3: 9, 4: 16, 5: 25}\n"
   ]
  },
  {
   "cell_type": "code",
   "execution_count": 46,
   "metadata": {},
   "outputs": [
    {
     "name": "stdout",
     "output_type": "stream",
     "text": [
      "{1: 1, 2: 4, 3: 9, 4: 16, 5: 25, 6: 36, 7: 49, 8: 64, 9: 81, 10: 100, 11: 121}\n"
     ]
    }
   ],
   "source": [
    "_6_dict = {}\n",
    "n = 11\n",
    "for i in range(1,n+1):\n",
    "    _6_dict[i] = i*i\n",
    "print(_6_dict)"
   ]
  },
  {
   "cell_type": "markdown",
   "metadata": {},
   "source": [
    "7. Write a Python script to print a dictionary where the keys are numbers\n",
    "between 1 and 15 (both included) and the values are the square of the keys.\n",
    "Sample Dictionary\n",
    "{1: 1, 2: 4, 3: 9, 4: 16, 5: 25, 6: 36, 7: 49, 8: 64, 9: 81, 10: 100, 11: 121, 12: 144,\n",
    "13: 169, 14: 196, 15: 225}\n"
   ]
  },
  {
   "cell_type": "code",
   "execution_count": 47,
   "metadata": {},
   "outputs": [
    {
     "name": "stdout",
     "output_type": "stream",
     "text": [
      "{1: 1, 2: 4, 3: 9, 4: 16, 5: 25, 6: 36, 7: 49, 8: 64, 9: 81, 10: 100, 11: 121, 12: 144, 13: 169, 14: 196, 15: 225}\n"
     ]
    }
   ],
   "source": [
    "_7_dict = {}\n",
    "for i in range(1,16):\n",
    "    _7_dict[i] = i*i\n",
    "print(_7_dict)"
   ]
  },
  {
   "cell_type": "markdown",
   "metadata": {},
   "source": [
    "8. Write a Python script to merge two Python dictionaries.\n"
   ]
  },
  {
   "cell_type": "code",
   "execution_count": 48,
   "metadata": {},
   "outputs": [
    {
     "name": "stdout",
     "output_type": "stream",
     "text": [
      "{1: 10, 2: 20, 3: 30, 4: 40, 5: 50, 6: 60}\n"
     ]
    }
   ],
   "source": [
    "_8_dic1={1:10, 2:20}\n",
    "_8_dic2={3:30, 4:40}\n",
    "_8_ans = {} # merged dict\n",
    "_8_ans.update(_8_dic1)\n",
    "_8_ans.update(_8_dic2)\n",
    "print(_3_ans)"
   ]
  },
  {
   "cell_type": "markdown",
   "metadata": {},
   "source": [
    "9. Write a Python program to iterate over dictionaries using for loops.\n",
    "\n"
   ]
  },
  {
   "cell_type": "code",
   "execution_count": 49,
   "metadata": {},
   "outputs": [
    {
     "name": "stdout",
     "output_type": "stream",
     "text": [
      "1 10\n",
      "2 20\n",
      "3 30\n",
      "4 40\n",
      "5 50\n",
      "6 60\n"
     ]
    }
   ],
   "source": [
    "_9_dict = {1: 10, 2: 20, 3: 30, 4: 40, 5: 50, 6: 60}\n",
    "for (k,v) in _9_dict.items():\n",
    "    print(k,v)"
   ]
  },
  {
   "cell_type": "markdown",
   "metadata": {},
   "source": [
    "10. Write a Python program to sum all the items in a dictionary.\n"
   ]
  },
  {
   "cell_type": "code",
   "execution_count": 50,
   "metadata": {},
   "outputs": [
    {
     "name": "stdout",
     "output_type": "stream",
     "text": [
      "33\n"
     ]
    }
   ],
   "source": [
    "_10_dict = {1: 10, 2: 20}\n",
    "_10_sum = 0\n",
    "for (k,v) in _10_dict.items():\n",
    "    _10_sum += k+v\n",
    "print(_10_sum)\n"
   ]
  },
  {
   "cell_type": "markdown",
   "metadata": {},
   "source": [
    "11. Write a Python program to multiply all the items in a dictionary.\n"
   ]
  },
  {
   "cell_type": "code",
   "execution_count": 51,
   "metadata": {},
   "outputs": [
    {
     "name": "stdout",
     "output_type": "stream",
     "text": [
      "400\n"
     ]
    }
   ],
   "source": [
    "_11_dict = {1: 10, 2: 20}\n",
    "_11_product = 1\n",
    "for (k,v) in _11_dict.items():\n",
    "    _11_product *= k*v\n",
    "print(_11_product)"
   ]
  },
  {
   "cell_type": "markdown",
   "metadata": {},
   "source": [
    "12. Write a Python program to remove a key from a dictionary.\n"
   ]
  },
  {
   "cell_type": "code",
   "execution_count": 52,
   "metadata": {},
   "outputs": [
    {
     "name": "stdout",
     "output_type": "stream",
     "text": [
      "{2: 20, 3: 30, 4: 40, 5: 50, 6: 60}\n"
     ]
    }
   ],
   "source": [
    "_12_dict = {1: 10, 2: 20, 3: 30, 4: 40, 5: 50, 6: 60}\n",
    "del(_12_dict[1])\n",
    "print(_12_dict)"
   ]
  },
  {
   "cell_type": "markdown",
   "metadata": {},
   "source": [
    "13. Write a Python program to map two lists into a dictionary.\n"
   ]
  },
  {
   "cell_type": "code",
   "execution_count": 53,
   "metadata": {},
   "outputs": [
    {
     "name": "stdout",
     "output_type": "stream",
     "text": [
      "{1: 10, 2: 20, 3: 30, 4: 40, 5: 50, 6: 60}\n"
     ]
    }
   ],
   "source": [
    "_13_k = [1, 2, 3, 4, 5, 6]\n",
    "_13_v = [10, 20, 30, 40, 50, 60]\n",
    "_13_dict = {}\n",
    "for i in range(len(_13_k)):\n",
    "    _13_dict[_13_k[i]] = _13_v[i]\n",
    "print(_13_dict)"
   ]
  },
  {
   "cell_type": "markdown",
   "metadata": {},
   "source": [
    "14. Write a Python program to sort a given dictionary by key.\n"
   ]
  },
  {
   "cell_type": "code",
   "execution_count": 54,
   "metadata": {},
   "outputs": [
    {
     "name": "stdout",
     "output_type": "stream",
     "text": [
      "[(0, 1), (1, 33), (4, 99), (22, 32)]\n",
      "[(22, 32), (4, 99), (1, 33), (0, 1)]\n"
     ]
    }
   ],
   "source": [
    "_14 = {1:33,22:32,4:99,0:1}\n",
    "_14_ans = _14.items() # this give list with(key, value) tuple\n",
    "_14_ascending = sorted(_14_ans,key=lambda x:x[0])\n",
    "_14_decent = sorted(_14_ans,key=lambda x:x[0])[::-1]\n",
    "print(_14_ascending)\n",
    "print(_14_decent)"
   ]
  },
  {
   "cell_type": "markdown",
   "metadata": {},
   "source": [
    "15. Write a Python program to get the maximum and minimum values of a dictionary.\n"
   ]
  },
  {
   "cell_type": "code",
   "execution_count": 55,
   "metadata": {},
   "outputs": [
    {
     "name": "stdout",
     "output_type": "stream",
     "text": [
      "60 10\n"
     ]
    }
   ],
   "source": [
    "_15_dict = {1: 10, 2: 20, 3: 30, 4: 40, 5: 50, 6: 60}\n",
    "mx = max(_15_dict.values())#max \n",
    "mi = min(_15_dict.values())#min\n",
    "print(mx,mi)"
   ]
  },
  {
   "cell_type": "markdown",
   "metadata": {},
   "source": [
    "\n",
    "16. Write a Python program to get a dictionary from an object's fields.\n"
   ]
  },
  {
   "cell_type": "code",
   "execution_count": 56,
   "metadata": {},
   "outputs": [
    {
     "name": "stdout",
     "output_type": "stream",
     "text": [
      "{'__module__': '__main__', '__init__': <function AI.__init__ at 0x0000018AF661A660>, '__dict__': <attribute '__dict__' of 'AI' objects>, '__weakref__': <attribute '__weakref__' of 'AI' objects>, '__doc__': None}\n"
     ]
    }
   ],
   "source": [
    "class AI:\n",
    "    def __init__(self):\n",
    "        self.a = \"thus\"\n",
    "        self.b = 9 \n",
    "\n",
    "print(AI.__dict__)"
   ]
  },
  {
   "cell_type": "markdown",
   "metadata": {},
   "source": [
    "17. Write a Python program to remove duplicates from the dictionary.\n"
   ]
  },
  {
   "cell_type": "code",
   "execution_count": 57,
   "metadata": {},
   "outputs": [
    {
     "name": "stdout",
     "output_type": "stream",
     "text": [
      "{1: 10, 2: 20, 3: 30, 4: 40, 5: 50, 6: 60}\n"
     ]
    }
   ],
   "source": [
    "_17_ans = dict()\n",
    "_17_dict = {1: 10, 2: 20, 3: 30,3: 30, 4: 40, 5: 50, 6: 60, 6: 60}\n",
    "for key, val in _17_dict.items():\n",
    "\tif val not in _17_ans.values():\n",
    "\t\t_17_ans[key] = val\n",
    "print(_17_ans)\n"
   ]
  },
  {
   "cell_type": "markdown",
   "metadata": {},
   "source": [
    "18. Write a Python program to check if a dictionary is empty or not."
   ]
  },
  {
   "cell_type": "code",
   "execution_count": 58,
   "metadata": {},
   "outputs": [
    {
     "name": "stdout",
     "output_type": "stream",
     "text": [
      "False\n",
      "True\n"
     ]
    }
   ],
   "source": [
    "_18_dict_1 = {1: 10, 2: 20, 3: 30, 4: 40, 5: 50, 6: 60}\n",
    "_18_dict_2 = {}\n",
    "\n",
    "print(_18_dict_1 == {})\n",
    "print(_18_dict_2 == {})"
   ]
  },
  {
   "cell_type": "markdown",
   "metadata": {},
   "source": [
    "19. Write a Python program to combine two dictionary by adding values for\n",
    "common keys.\n",
    "d1 = {'a': 100, 'b': 200, 'c':300}\n",
    "d2 = {'a': 300, 'b': 200, 'd':400}\n",
    "Sample output: Counter({'a': 400, 'b': 400, 'd': 400, 'c': 300})\n",
    "\n"
   ]
  },
  {
   "cell_type": "code",
   "execution_count": 59,
   "metadata": {},
   "outputs": [
    {
     "name": "stdout",
     "output_type": "stream",
     "text": [
      "{'b': 400, 'd': 400, 'c': 300, 'a': 400}\n"
     ]
    }
   ],
   "source": [
    "d1 = {'a': 100, 'b': 200, 'c': 300}\n",
    "d2 = {'a': 300, 'b': 200, 'd': 400}\n",
    "\n",
    "combined_dict = {}\n",
    "for key in set(d1.keys()) | set(d2.keys()):\n",
    "    combined_dict[key] = d1.get(key, 0) + d2.get(key, 0)\n",
    "\n",
    "print(combined_dict)"
   ]
  },
  {
   "cell_type": "markdown",
   "metadata": {},
   "source": [
    "20. Write a Python program to print all distinct values in a dictionary.\n",
    "Sample Data : [{\"V\":\"S001\"}, {\"V\": \"S002\"}, {\"VI\": \"S001\"}, {\"VI\": \"S005\"},\n",
    "{\"VII\":\"S005\"}, {\"V\":\"S009\"},{\"VIII\":\"S007\"}]\n",
    "Expected Output : Unique Values: {'S005', 'S002', 'S007', 'S001', 'S009'}"
   ]
  },
  {
   "cell_type": "code",
   "execution_count": 60,
   "metadata": {},
   "outputs": [
    {
     "name": "stdout",
     "output_type": "stream",
     "text": [
      "Unique Values: {'S001', 'S002', 'S007', 'S005', 'S009'}\n"
     ]
    }
   ],
   "source": [
    "data = [{\"V\":\"S001\"}, {\"V\": \"S002\"}, {\"VI\": \"S001\"}, {\"VI\": \"S005\"}, {\"VII\":\"S005\"}, {\"V\":\"S009\"},{\"VIII\":\"S007\"}]\n",
    "\n",
    "distinct_values = set()\n",
    "\n",
    "for item in data:\n",
    "    for value in item.values():\n",
    "        distinct_values.add(value)\n",
    "\n",
    "print(\"Unique Values:\", distinct_values)\n"
   ]
  },
  {
   "cell_type": "markdown",
   "metadata": {},
   "source": [
    "21. Write a Python program to create and display all combinations of letters,\n",
    "selecting each letter from a different key in a dictionary.\n",
    "Sample data : {'1':['a','b'], '2':['c','d']}\n",
    "Expected Output:\n",
    "ac\n",
    "ad\n",
    "bc\n",
    "bd"
   ]
  },
  {
   "cell_type": "code",
   "execution_count": 61,
   "metadata": {},
   "outputs": [
    {
     "name": "stdout",
     "output_type": "stream",
     "text": [
      "ac\n",
      "bc\n",
      "ad\n",
      "bd\n"
     ]
    }
   ],
   "source": [
    "def generate_combinations(dictionary):\n",
    "    keys = dictionary.keys()\n",
    "    combinations = [[]]\n",
    "\n",
    "    for key in keys:\n",
    "        new_combinations = []\n",
    "        for letter in dictionary[key]:\n",
    "            for combination in combinations:\n",
    "                new_combinations.append(combination + [letter])\n",
    "        combinations = new_combinations\n",
    "\n",
    "    for combination in combinations:\n",
    "        print(''.join(combination))\n",
    "\n",
    "\n",
    "my_dict = {'1':['a','b'], '2':['c','d']}\n",
    "\n",
    "generate_combinations(my_dict)"
   ]
  },
  {
   "cell_type": "markdown",
   "metadata": {},
   "source": [
    "22. Write a Python program to find the highest 3 values of corresponding keys in\n",
    "a dictionary.\n",
    "\n"
   ]
  },
  {
   "cell_type": "code",
   "execution_count": 62,
   "metadata": {},
   "outputs": [
    {
     "name": "stdout",
     "output_type": "stream",
     "text": [
      "key1: 30\n",
      "key5: 50\n",
      "key3: 45\n"
     ]
    }
   ],
   "source": [
    "my_dict = {\n",
    "    'key1': 30,\n",
    "    'key2': 15,\n",
    "    'key3': 45,\n",
    "    'key4': 20,\n",
    "    'key5': 50\n",
    "}\n",
    "\n",
    "highest_values = []\n",
    "highest_keys = []\n",
    "\n",
    "for key, value in my_dict.items():\n",
    "    if len(highest_values) < 3:\n",
    "        highest_values.append(value)\n",
    "        highest_keys.append(key)\n",
    "    else:\n",
    "        min_index = highest_values.index(min(highest_values))\n",
    "        if value > highest_values[min_index]:\n",
    "            highest_values[min_index] = value\n",
    "            highest_keys[min_index] = key\n",
    "\n",
    "for key, value in zip(highest_keys, highest_values):\n",
    "    print(f\"{key}: {value}\")"
   ]
  },
  {
   "cell_type": "markdown",
   "metadata": {},
   "source": [
    "23. Write a Python program to combine values in a list of dictionaries.\n",
    "Sample data: [{'item': 'item1', 'amount': 400}, {'item': 'item2', 'amount': 300},\n",
    "{'item': 'item1', 'amount': 750}]\n",
    "Expected Output: Counter({'item1': 1150, 'item2': 300})\n"
   ]
  },
  {
   "cell_type": "code",
   "execution_count": 63,
   "metadata": {},
   "outputs": [
    {
     "name": "stdout",
     "output_type": "stream",
     "text": [
      "{'item1': 1150, 'item2': 300}\n"
     ]
    }
   ],
   "source": [
    "data = [{'item': 'item1', 'amount': 400},\n",
    "        {'item': 'item2', 'amount': 300},\n",
    "        {'item': 'item1', 'amount': 750}]\n",
    "\n",
    "combined_data = {}\n",
    "\n",
    "for d in data:\n",
    "    item = d['item']\n",
    "    amount = d['amount']\n",
    "    if item in combined_data:\n",
    "        combined_data[item] += amount\n",
    "    else:\n",
    "        combined_data[item] = amount\n",
    "\n",
    "print(combined_data)"
   ]
  },
  {
   "cell_type": "markdown",
   "metadata": {},
   "source": [
    "24. Write a Python program to create a dictionary from a string.\n",
    "Note: Track the count of the letters from the string.\n",
    "Sample string : 'w3resource'\n",
    "Expected output: {'w': 1, '3': 1, 'r': 2, 'e': 2, 's': 1, 'o': 1, 'u': 1, 'c': 1}"
   ]
  },
  {
   "cell_type": "code",
   "execution_count": 64,
   "metadata": {},
   "outputs": [
    {
     "name": "stdout",
     "output_type": "stream",
     "text": [
      "{'w': 1, '3': 1, 'r': 2, 'e': 2, 's': 1, 'o': 1, 'u': 1, 'c': 1}\n"
     ]
    }
   ],
   "source": [
    "my_string = 'w3resource'\n",
    "letter_counts = {}\n",
    "\n",
    "for letter in my_string:\n",
    "    if letter in letter_counts:\n",
    "        letter_counts[letter] += 1\n",
    "    else:\n",
    "        letter_counts[letter] = 1\n",
    "\n",
    "print(letter_counts)"
   ]
  },
  {
   "cell_type": "markdown",
   "metadata": {},
   "source": [
    "25. Write a Python program to print a dictionary in table format.\n",
    "\n"
   ]
  },
  {
   "cell_type": "code",
   "execution_count": 65,
   "metadata": {},
   "outputs": [
    {
     "name": "stdout",
     "output_type": "stream",
     "text": [
      "+------------+----------+\n",
      "| name       | John     |\n",
      "| age        | 30       |\n",
      "| city       | New York |\n",
      "| occupation | Engineer |\n",
      "+------------+----------+\n"
     ]
    }
   ],
   "source": [
    "my_dict = {\n",
    "    'name': 'John',\n",
    "    'age': 30,\n",
    "    'city': 'New York',\n",
    "    'occupation': 'Engineer'\n",
    "}\n",
    "\n",
    "max_key_length = max(len(key) for key in my_dict)\n",
    "max_value_length = max(len(str(value)) for value in my_dict.values())\n",
    "\n",
    "print(f\"+{'-' * (max_key_length + 2)}+{'-' * (max_value_length + 2)}+\")\n",
    "for key, value in my_dict.items():\n",
    "    print(f\"| {key:<{max_key_length}} | {value:<{max_value_length}} |\")\n",
    "print(f\"+{'-' * (max_key_length + 2)}+{'-' * (max_value_length + 2)}+\")\n"
   ]
  },
  {
   "cell_type": "markdown",
   "metadata": {},
   "source": [
    "26. Write a Python program to count the values associated with a key in a\n",
    "dictionary.\n",
    "Expected Output:\n",
    "6\n",
    "2\n"
   ]
  },
  {
   "cell_type": "code",
   "execution_count": 66,
   "metadata": {},
   "outputs": [
    {
     "name": "stdout",
     "output_type": "stream",
     "text": [
      "6: 3\n",
      "2: 1\n",
      "3: 1\n"
     ]
    }
   ],
   "source": [
    "my_dict = {\n",
    "    'key1': 6,\n",
    "    'key2': 2,\n",
    "    'key3': 6,\n",
    "    'key4': 3,\n",
    "    'key5': 6\n",
    "}\n",
    "\n",
    "value_counts = {}\n",
    "\n",
    "for key, value in my_dict.items():\n",
    "    if value in value_counts:\n",
    "        value_counts[value] += 1\n",
    "    else:\n",
    "        value_counts[value] = 1\n",
    "\n",
    "for value, count in value_counts.items():\n",
    "    print(f\"{value}: {count}\")\n"
   ]
  },
  {
   "cell_type": "markdown",
   "metadata": {},
   "source": [
    "27. Write a Python program to convert a list into a nested dictionary of keys.\n"
   ]
  },
  {
   "cell_type": "code",
   "execution_count": 67,
   "metadata": {},
   "outputs": [
    {
     "name": "stdout",
     "output_type": "stream",
     "text": [
      "{'a': {'b': {'c': {'d': None}}}}\n"
     ]
    }
   ],
   "source": [
    "my_list = ['a', 'b', 'c', 'd']\n",
    "nested_dict = {}\n",
    "current_dict = nested_dict\n",
    "for item in my_list[:-1]:\n",
    "    current_dict[item] = {}\n",
    "    current_dict = current_dict[item]\n",
    "\n",
    "current_dict[my_list[-1]] = None\n",
    "\n",
    "print(nested_dict)\n"
   ]
  },
  {
   "cell_type": "markdown",
   "metadata": {},
   "source": [
    "28. Write a Python program to sort a list alphabetically in a dictionary.\n"
   ]
  },
  {
   "cell_type": "code",
   "execution_count": 68,
   "metadata": {},
   "outputs": [
    {
     "name": "stdout",
     "output_type": "stream",
     "text": [
      "{'fruits': ['apple', 'banana', 'grape', 'orange'], 'colors': ['blue', 'green', 'red', 'yellow'], 'animals': ['cat', 'dog', 'elephant', 'lion']}\n"
     ]
    }
   ],
   "source": [
    "my_dict = {\n",
    "    'fruits': ['apple', 'orange', 'banana', 'grape'],\n",
    "    'colors': ['red', 'blue', 'green', 'yellow'],\n",
    "    'animals': ['dog', 'cat', 'elephant', 'lion']\n",
    "}\n",
    "\n",
    "for key, value in my_dict.items():\n",
    "    my_dict[key] = sorted(value)\n",
    "\n",
    "print(my_dict)\n"
   ]
  },
  {
   "cell_type": "markdown",
   "metadata": {},
   "source": [
    "29. Write a Python program to remove spaces from dictionary keys.\n"
   ]
  },
  {
   "cell_type": "code",
   "execution_count": 69,
   "metadata": {},
   "outputs": [
    {
     "name": "stdout",
     "output_type": "stream",
     "text": [
      "{'key1': 1, 'key2': 2, 'key3': 3, 'key4': 4, 'key5': 5}\n"
     ]
    }
   ],
   "source": [
    "my_dict = {\n",
    "    'key 1': 1,\n",
    "    'key 2': 2,\n",
    "    'key 3': 3,\n",
    "    'key 4': 4,\n",
    "    'key 5': 5\n",
    "}\n",
    "\n",
    "new_dict = {key.replace(' ', ''): value for key, value in my_dict.items()}\n",
    "\n",
    "print(new_dict)"
   ]
  },
  {
   "cell_type": "markdown",
   "metadata": {},
   "source": [
    "30. Write a Python program to get the top three items in a shop.\n",
    "Sample data: {'item1': 45.50, 'item2':35, 'item3': 41.30, 'item4':55, 'item5': 24}\n",
    "Expected Output:\n",
    "item4 55\n",
    "item1 45.5\n",
    "item3 41.3\n"
   ]
  },
  {
   "cell_type": "code",
   "execution_count": 70,
   "metadata": {},
   "outputs": [
    {
     "name": "stdout",
     "output_type": "stream",
     "text": [
      "item4 55\n",
      "item1 45.5\n",
      "item3 41.3\n"
     ]
    }
   ],
   "source": [
    "shop_items = {\n",
    "    'item1': 45.50,\n",
    "    'item2': 35,\n",
    "    'item3': 41.30,\n",
    "    'item4': 55,\n",
    "    'item5': 24\n",
    "}\n",
    "\n",
    "first_item = None\n",
    "second_item = None\n",
    "third_item = None\n",
    "\n",
    "for item, price in shop_items.items():\n",
    "    if first_item is None or price > shop_items[first_item]:\n",
    "        third_item = second_item\n",
    "        second_item = first_item\n",
    "        first_item = item\n",
    "    elif second_item is None or price > shop_items[second_item]:\n",
    "        third_item = second_item\n",
    "        second_item = item\n",
    "    elif third_item is None or price > shop_items[third_item]:\n",
    "        third_item = item\n",
    "\n",
    "print(first_item, shop_items[first_item])\n",
    "print(second_item, shop_items[second_item])\n",
    "print(third_item, shop_items[third_item])"
   ]
  },
  {
   "cell_type": "markdown",
   "metadata": {},
   "source": [
    "31. Write a Python program to get the key, value and item in a dictionary.\n"
   ]
  },
  {
   "cell_type": "code",
   "execution_count": 71,
   "metadata": {},
   "outputs": [
    {
     "name": "stdout",
     "output_type": "stream",
     "text": [
      "Key: key1\n",
      "Value: 1\n",
      "Item: ('key1', 1)\n",
      "---\n",
      "Key: key2\n",
      "Value: 2\n",
      "Item: ('key2', 2)\n",
      "---\n",
      "Key: key3\n",
      "Value: 3\n",
      "Item: ('key3', 3)\n",
      "---\n",
      "Key: key4\n",
      "Value: 4\n",
      "Item: ('key4', 4)\n",
      "---\n",
      "Key: key5\n",
      "Value: 5\n",
      "Item: ('key5', 5)\n",
      "---\n"
     ]
    }
   ],
   "source": [
    "my_dict = {\n",
    "    'key1': 1,\n",
    "    'key2': 2,\n",
    "    'key3': 3,\n",
    "    'key4': 4,\n",
    "    'key5': 5\n",
    "}\n",
    "\n",
    "for key, value in my_dict.items():\n",
    "    print(\"Key:\", key)\n",
    "    print(\"Value:\", value)\n",
    "    print(\"Item:\", (key, value))\n",
    "    print(\"---\")"
   ]
  },
  {
   "cell_type": "markdown",
   "metadata": {},
   "source": [
    "\n",
    "32. Write a Python program to print a dictionary line by line.\n"
   ]
  },
  {
   "cell_type": "code",
   "execution_count": 72,
   "metadata": {},
   "outputs": [
    {
     "name": "stdout",
     "output_type": "stream",
     "text": [
      "key1: 1\n",
      "key2: 2\n",
      "key3: 3\n",
      "key4: 4\n",
      "key5: 5\n"
     ]
    }
   ],
   "source": [
    "my_dict = {\n",
    "    'key1': 1,\n",
    "    'key2': 2,\n",
    "    'key3': 3,\n",
    "    'key4': 4,\n",
    "    'key5': 5\n",
    "}\n",
    "\n",
    "for key, value in my_dict.items():\n",
    "    print(f\"{key}: {value}\")"
   ]
  },
  {
   "cell_type": "markdown",
   "metadata": {},
   "source": [
    "33. Write a Python program to check if multiple keys exist in a dictionary.\n"
   ]
  },
  {
   "cell_type": "code",
   "execution_count": 73,
   "metadata": {},
   "outputs": [
    {
     "name": "stdout",
     "output_type": "stream",
     "text": [
      "The key 'key1' exists in the dictionary.\n",
      "The key 'key3' exists in the dictionary.\n",
      "The key 'key6' does not exist in the dictionary.\n"
     ]
    }
   ],
   "source": [
    "my_dict = {\n",
    "    'key1': 1,\n",
    "    'key2': 2,\n",
    "    'key3': 3,\n",
    "    'key4': 4,\n",
    "    'key5': 5\n",
    "}\n",
    "\n",
    "keys_to_check = ['key1', 'key3', 'key6']\n",
    "\n",
    "for key in keys_to_check:\n",
    "    if key in my_dict:\n",
    "        print(f\"The key '{key}' exists in the dictionary.\")\n",
    "    else:\n",
    "        print(f\"The key '{key}' does not exist in the dictionary.\")\n"
   ]
  },
  {
   "cell_type": "markdown",
   "metadata": {},
   "source": [
    "34. Write a Python program to count the number of items in a dictionary value\n",
    "that is a list."
   ]
  },
  {
   "cell_type": "code",
   "execution_count": 74,
   "metadata": {},
   "outputs": [
    {
     "name": "stdout",
     "output_type": "stream",
     "text": [
      "Number of items that are lists: 4\n"
     ]
    }
   ],
   "source": [
    "my_dict = {\n",
    "    'list1': [1, 2, 3],\n",
    "    'list2': [4, 5],\n",
    "    'list3': [6, 7, 8, 9],\n",
    "    'non_list': 'Not a list',\n",
    "    'empty_list': []\n",
    "}\n",
    "\n",
    "list_count = 0\n",
    "\n",
    "for value in my_dict.values():\n",
    "    if type(value) is list:\n",
    "        list_count += 1\n",
    "\n",
    "print(\"Number of items that are lists:\", list_count)"
   ]
  },
  {
   "cell_type": "markdown",
   "metadata": {},
   "source": [
    "35. Write a Python program to sort Counter by value.\n",
    "Sample data : {'Math':81, 'Physics':83, 'Chemistry':87}\n",
    "Expected data: [('Chemistry', 87), ('Physics', 83), ('Math', 81)]\n"
   ]
  },
  {
   "cell_type": "code",
   "execution_count": 75,
   "metadata": {},
   "outputs": [
    {
     "name": "stdout",
     "output_type": "stream",
     "text": [
      "[('Chemistry', 87), ('Physics', 83), ('Math', 81)]\n"
     ]
    }
   ],
   "source": [
    "from collections import Counter\n",
    "\n",
    "def sort_counter_by_value(counter_dict):\n",
    "    sorted_items = sorted(counter_dict.items(), key=lambda x: x[1], reverse=True)\n",
    "    return sorted_items\n",
    "\n",
    "\n",
    "sample_data = {'Math': 81, 'Physics': 83, 'Chemistry': 87}\n",
    "\n",
    "\n",
    "sorted_data = sort_counter_by_value(sample_data)\n",
    "\n",
    "\n",
    "print(sorted_data)\n"
   ]
  },
  {
   "cell_type": "markdown",
   "metadata": {},
   "source": [
    "36. Write a Python program to create a dictionary from two lists without losing\n",
    "duplicate values.\n",
    "Sample lists: ['Class-V', 'Class-VI', 'Class-VII', 'Class-VIII'], [1, 2, 2, 3]\n",
    "Expected Output: defaultdict(<class 'set'>, {'Class-V': {1}, 'Class-VI': {2}, 'Class-\n",
    "VII': {2}, 'Class-VIII': {3}})\n"
   ]
  },
  {
   "cell_type": "code",
   "execution_count": 76,
   "metadata": {},
   "outputs": [
    {
     "name": "stdout",
     "output_type": "stream",
     "text": [
      "{'Class-V': {1}, 'Class-VI': {2}, 'Class-VII': {2}, 'Class-VIII': {3}}\n"
     ]
    }
   ],
   "source": [
    "class_names = ['Class-V', 'Class-VI', 'Class-VII', 'Class-VIII']\n",
    "class_numbers = [1, 2, 2, 3]\n",
    "\n",
    "result_dict = {}\n",
    "\n",
    "for i in range(len(class_names)):\n",
    "    class_name = class_names[i]\n",
    "    class_number = class_numbers[i]\n",
    "    \n",
    "    if class_name in result_dict:\n",
    "        result_dict[class_name].add(class_number)\n",
    "    else:\n",
    "        result_dict[class_name] = {class_number}\n",
    "\n",
    "print(result_dict)"
   ]
  },
  {
   "cell_type": "markdown",
   "metadata": {},
   "source": [
    "37. Write a Python program to replace dictionary values with their sums.\n"
   ]
  },
  {
   "cell_type": "code",
   "execution_count": 77,
   "metadata": {},
   "outputs": [
    {
     "name": "stdout",
     "output_type": "stream",
     "text": [
      "{'key1': 6, 'key2': 6, 'key3': 6}\n"
     ]
    }
   ],
   "source": [
    "#37\n",
    "my_dict = {'key1': 1, 'key2': 3, 'key3': 2}\n",
    "\n",
    "sum_values = sum(my_dict.values())\n",
    "\n",
    "for key in my_dict:\n",
    "    my_dict[key] = sum_values\n",
    "\n",
    "print(my_dict)"
   ]
  },
  {
   "cell_type": "markdown",
   "metadata": {},
   "source": [
    "38. Write a Python program to match key values in two dictionaries.\n",
    "Sample dictionary: {'key1': 1, 'key2': 3, 'key3': 2}, {'key1': 1, 'key2': 2}\n",
    "Expected output: key1: 1 is present in both x and y"
   ]
  },
  {
   "cell_type": "code",
   "execution_count": 78,
   "metadata": {},
   "outputs": [
    {
     "name": "stdout",
     "output_type": "stream",
     "text": [
      "key1: 1 is present in both x and y\n",
      "key2: 3 is present in both x and y\n"
     ]
    }
   ],
   "source": [
    "# 38\n",
    "x = {'key1': 1, 'key2': 3, 'key3': 2}\n",
    "y = {'key1': 1, 'key2': 3}\n",
    "\n",
    "for key_x, value_x in x.items():\n",
    "    for key_y, value_y in y.items():\n",
    "        if key_x == key_y and value_x == value_y:\n",
    "            print(f\"{key_x}: {value_x} is present in both x and y\")\n",
    "\n"
   ]
  }
 ],
 "metadata": {
  "kernelspec": {
   "display_name": "Python 3",
   "language": "python",
   "name": "python3"
  },
  "language_info": {
   "codemirror_mode": {
    "name": "ipython",
    "version": 3
   },
   "file_extension": ".py",
   "mimetype": "text/x-python",
   "name": "python",
   "nbconvert_exporter": "python",
   "pygments_lexer": "ipython3",
   "version": "3.11.4"
  },
  "orig_nbformat": 4
 },
 "nbformat": 4,
 "nbformat_minor": 2
}

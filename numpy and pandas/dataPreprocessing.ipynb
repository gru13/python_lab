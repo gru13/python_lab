{
 "cells": [
  {
   "cell_type": "markdown",
   "metadata": {},
   "source": [
    "### MODULE 5: DATA CLEANING, PREPARATION AND VISUALIZATION ##"
   ]
  },
  {
   "cell_type": "markdown",
   "metadata": {},
   "source": [
    "1. Fill functions in a csv file "
   ]
  },
  {
   "cell_type": "code",
   "execution_count": 29,
   "metadata": {},
   "outputs": [
    {
     "name": "stdout",
     "output_type": "stream",
     "text": [
      "   Sl No  Name  Physics  Maths  Python\n",
      "1     Aa  95.0     85.0   78.0     NaN\n",
      "2     Bb  98.0     83.0    NaN     NaN\n",
      "3     Cc  23.0     33.0   44.0     NaN\n",
      "4     Dd  24.0     56.0   66.0     NaN\n",
      "5     Ee  68.0      NaN   98.0     NaN\n",
      "6    NaN  28.0     83.0   73.0     NaN\n",
      "7    Nan  93.0     94.0   90.0     NaN\n",
      "8     Gg  90.0     71.0    NaN     NaN\n",
      "9     Hh  90.0     92.0    NaN     NaN\n",
      "10    Jj  91.0     95.0   96.0     NaN\n"
     ]
    }
   ],
   "source": [
    "import pandas as pd\n",
    "import numpy as np\n",
    "\n",
    "df=pd.read_csv(\"./data/dsdata.csv\")\n",
    "print(df)"
   ]
  },
  {
   "cell_type": "code",
   "execution_count": 30,
   "metadata": {},
   "outputs": [
    {
     "name": "stdout",
     "output_type": "stream",
     "text": [
      "   Sl No  Name  Physics  Maths  Python\n",
      "1     Aa  95.0     85.0   78.0    85.0\n",
      "2     Bb  98.0     83.0   85.0    85.0\n",
      "3     Cc  23.0     33.0   44.0    85.0\n",
      "4     Dd  24.0     56.0   66.0    85.0\n",
      "5     Ee  68.0     85.0   98.0    85.0\n",
      "6     85  28.0     83.0   73.0    85.0\n",
      "7    Nan  93.0     94.0   90.0    85.0\n",
      "8     Gg  90.0     71.0   85.0    85.0\n",
      "9     Hh  90.0     92.0   85.0    85.0\n",
      "10    Jj  91.0     95.0   96.0    85.0\n"
     ]
    }
   ],
   "source": [
    "#Fills the null data with specified values\n",
    "print(df.fillna(85))"
   ]
  },
  {
   "cell_type": "code",
   "execution_count": 31,
   "metadata": {},
   "outputs": [
    {
     "name": "stdout",
     "output_type": "stream",
     "text": [
      "   Sl No  Name  Physics  Maths  Python\n",
      "1     Aa  95.0     85.0   78.0     NaN\n",
      "2     Bb  98.0     83.0   44.0     NaN\n",
      "3     Cc  23.0     33.0   44.0     NaN\n",
      "4     Dd  24.0     56.0   66.0     NaN\n",
      "5     Ee  68.0     83.0   98.0     NaN\n",
      "6    Nan  28.0     83.0   73.0     NaN\n",
      "7    Nan  93.0     94.0   90.0     NaN\n",
      "8     Gg  90.0     71.0   96.0     NaN\n",
      "9     Hh  90.0     92.0   96.0     NaN\n",
      "10    Jj  91.0     95.0   96.0     NaN\n"
     ]
    }
   ],
   "source": [
    "#bfill-backfill(Fills the null value with the value after it)\n",
    "print(df.fillna(method='bfill'))"
   ]
  },
  {
   "cell_type": "code",
   "execution_count": 32,
   "metadata": {},
   "outputs": [
    {
     "name": "stdout",
     "output_type": "stream",
     "text": [
      "   Sl No  Name  Physics  Maths  Python\n",
      "1     Aa  95.0     85.0   78.0     NaN\n",
      "2     Bb  98.0     83.0   78.0     NaN\n",
      "3     Cc  23.0     33.0   44.0     NaN\n",
      "4     Dd  24.0     56.0   66.0     NaN\n",
      "5     Ee  68.0     56.0   98.0     NaN\n",
      "6     Ee  28.0     83.0   73.0     NaN\n",
      "7    Nan  93.0     94.0   90.0     NaN\n",
      "8     Gg  90.0     71.0   90.0     NaN\n",
      "9     Hh  90.0     92.0   90.0     NaN\n",
      "10    Jj  91.0     95.0   96.0     NaN\n"
     ]
    }
   ],
   "source": [
    "#ffill-forwardfill(Fills the null values with the value before it)\n",
    "print(df.fillna(method='ffill'))"
   ]
  },
  {
   "cell_type": "code",
   "execution_count": 33,
   "metadata": {},
   "outputs": [
    {
     "name": "stdout",
     "output_type": "stream",
     "text": [
      "   Sl No  Name  Physics  Maths  Python\n",
      "1     Aa  95.0     85.0   78.0     NaN\n",
      "2     Bb  98.0     83.0   78.0     NaN\n",
      "3     Cc  23.0     33.0   44.0     NaN\n",
      "4     Dd  24.0     56.0   66.0     NaN\n",
      "5     Ee  68.0     56.0   98.0     NaN\n",
      "6     Ee  28.0     83.0   73.0     NaN\n",
      "7    Nan  93.0     94.0   90.0     NaN\n",
      "8     Gg  90.0     71.0   90.0     NaN\n",
      "9     Hh  90.0     92.0   90.0     NaN\n",
      "10    Jj  91.0     95.0   96.0     NaN\n"
     ]
    }
   ],
   "source": [
    "newdata=df.fillna(method='pad') #Same as ffill\n",
    "#Storing it as a seperate dataframe\n",
    "print(newdata)"
   ]
  },
  {
   "cell_type": "code",
   "execution_count": 34,
   "metadata": {},
   "outputs": [],
   "source": [
    "\n",
    "#Saving the dataframe as a new excel file\n",
    "newdata.to_excel(\"./data/newdsdata.xlsx\")"
   ]
  },
  {
   "cell_type": "markdown",
   "metadata": {},
   "source": [
    "2. Filtering null functions"
   ]
  },
  {
   "cell_type": "code",
   "execution_count": 35,
   "metadata": {},
   "outputs": [
    {
     "name": "stdout",
     "output_type": "stream",
     "text": [
      "   Sl No  Name  Physics  Maths  Python\n",
      "1     Aa  95.0     85.0   78.0     NaN\n",
      "2     Bb  98.0     83.0    NaN     NaN\n",
      "3     Cc  23.0     33.0   44.0     NaN\n",
      "4     Dd  24.0     56.0   66.0     NaN\n",
      "5     Ee  68.0      NaN   98.0     NaN\n",
      "6    NaN  28.0     83.0   73.0     NaN\n",
      "7    Nan  93.0     94.0   90.0     NaN\n",
      "8     Gg  90.0     71.0    NaN     NaN\n",
      "9     Hh  90.0     92.0    NaN     NaN\n",
      "10    Jj  91.0     95.0   96.0     NaN\n"
     ]
    }
   ],
   "source": [
    "import pandas as pd\n",
    "import numpy as np\n",
    "\n",
    "df=pd.read_csv(\"./data/dsdata.csv\")\n",
    "print(df)"
   ]
  },
  {
   "cell_type": "code",
   "execution_count": 36,
   "metadata": {},
   "outputs": [
    {
     "name": "stdout",
     "output_type": "stream",
     "text": [
      "  Sl No  Name  Physics  Maths  Python\n",
      "5    Ee  68.0      NaN   98.0     NaN\n"
     ]
    }
   ],
   "source": [
    "#Filters and prints the dataframe where physics has null values\n",
    "Physics_null=pd.isnull(df[\"Physics\"])\n",
    "print(df[Physics_null])"
   ]
  },
  {
   "cell_type": "code",
   "execution_count": 37,
   "metadata": {},
   "outputs": [
    {
     "name": "stdout",
     "output_type": "stream",
     "text": [
      "   Sl No  Name  Physics  Maths  Python\n",
      "1     Aa  95.0     85.0   78.0     NaN\n",
      "3     Cc  23.0     33.0   44.0     NaN\n",
      "4     Dd  24.0     56.0   66.0     NaN\n",
      "5     Ee  68.0      NaN   98.0     NaN\n",
      "6    NaN  28.0     83.0   73.0     NaN\n",
      "7    Nan  93.0     94.0   90.0     NaN\n",
      "10    Jj  91.0     95.0   96.0     NaN\n"
     ]
    }
   ],
   "source": [
    "#Filters and prints the dataframe where Maths has no null values\n",
    "Maths_null=pd.notnull(df[\"Maths\"])\n",
    "print(df[Maths_null])"
   ]
  },
  {
   "cell_type": "markdown",
   "metadata": {},
   "source": [
    "3. Map functions"
   ]
  },
  {
   "cell_type": "code",
   "execution_count": 38,
   "metadata": {},
   "outputs": [
    {
     "name": "stdout",
     "output_type": "stream",
     "text": [
      "0       Cat\n",
      "1       Dog\n",
      "2       NaN\n",
      "3    Rabbit\n",
      "dtype: object\n"
     ]
    }
   ],
   "source": [
    "import pandas as pd\n",
    "import numpy as np\n",
    "\n",
    "s=pd.Series(['Cat','Dog',np.nan,'Rabbit'])\n",
    "print(s)"
   ]
  },
  {
   "cell_type": "code",
   "execution_count": 39,
   "metadata": {},
   "outputs": [
    {
     "name": "stdout",
     "output_type": "stream",
     "text": [
      "0    Kitten\n",
      "1      Pupp\n",
      "2       NaN\n",
      "3       NaN\n",
      "dtype: object\n"
     ]
    }
   ],
   "source": [
    "print(s.map({'Cat':'Kitten','Dog':'Pupp'}))"
   ]
  },
  {
   "cell_type": "code",
   "execution_count": 40,
   "metadata": {},
   "outputs": [
    {
     "name": "stdout",
     "output_type": "stream",
     "text": [
      "0       I am a Cat\n",
      "1       I am a Dog\n",
      "2       I am a nan\n",
      "3    I am a Rabbit\n",
      "dtype: object\n"
     ]
    }
   ],
   "source": [
    "print(s.map('I am a {}'.format))"
   ]
  },
  {
   "cell_type": "code",
   "execution_count": 41,
   "metadata": {},
   "outputs": [
    {
     "name": "stdout",
     "output_type": "stream",
     "text": [
      "0       I am a Cat\n",
      "1       I am a Dog\n",
      "2              NaN\n",
      "3    I am a Rabbit\n",
      "dtype: object\n"
     ]
    }
   ],
   "source": [
    "print(s.map('I am a {}'.format, na_action='ignore'))"
   ]
  },
  {
   "cell_type": "markdown",
   "metadata": {},
   "source": [
    "4. Null and nill function"
   ]
  },
  {
   "cell_type": "code",
   "execution_count": 42,
   "metadata": {},
   "outputs": [
    {
     "name": "stdout",
     "output_type": "stream",
     "text": [
      "   First Score  Second Score  Third Score\n",
      "0        100.0          30.0          NaN\n",
      "1         90.0          45.0         40.0\n",
      "2          NaN          56.0         80.0\n",
      "3         95.0           NaN         90.0\n"
     ]
    }
   ],
   "source": [
    "\n",
    "import pandas as pd\n",
    "import numpy as np\n",
    "\n",
    "\n",
    "dict={'First Score':[100,90,np.nan,95],\n",
    "      'Second Score':[30,45,56,np.nan],\n",
    "        'Third Score':[np.nan,40,80,90]}\n",
    "\n",
    "df=pd.DataFrame(dict)\n",
    "print(df)"
   ]
  },
  {
   "cell_type": "code",
   "execution_count": 43,
   "metadata": {},
   "outputs": [
    {
     "name": "stdout",
     "output_type": "stream",
     "text": [
      "   First Score  Second Score  Third Score\n",
      "0        False         False         True\n",
      "1        False         False        False\n",
      "2         True         False        False\n",
      "3        False          True        False\n"
     ]
    }
   ],
   "source": [
    "print(df.isnull())  #Prints true for null values"
   ]
  },
  {
   "cell_type": "code",
   "execution_count": 44,
   "metadata": {},
   "outputs": [
    {
     "name": "stdout",
     "output_type": "stream",
     "text": [
      "   First Score  Second Score  Third Score\n",
      "0         True          True        False\n",
      "1         True          True         True\n",
      "2        False          True         True\n",
      "3         True         False         True\n"
     ]
    }
   ],
   "source": [
    "print(df.notnull()) #Prints true for non null values"
   ]
  },
  {
   "cell_type": "code",
   "execution_count": 45,
   "metadata": {},
   "outputs": [
    {
     "name": "stdout",
     "output_type": "stream",
     "text": [
      "   First Score  Second Score  Third Score\n",
      "0        100.0          30.0          5.0\n",
      "1         90.0          45.0         40.0\n",
      "2          5.0          56.0         80.0\n",
      "3         95.0           5.0         90.0\n"
     ]
    }
   ],
   "source": [
    "print(df.fillna(5)) #Fills the null values with the specified number"
   ]
  },
  {
   "cell_type": "code",
   "execution_count": 46,
   "metadata": {},
   "outputs": [
    {
     "name": "stdout",
     "output_type": "stream",
     "text": [
      "   First Score  Second Score  Third Score\n",
      "0        100.0          30.0         40.0\n",
      "1         90.0          45.0         40.0\n",
      "2         95.0          56.0         80.0\n",
      "3         95.0           NaN         90.0\n"
     ]
    }
   ],
   "source": [
    "#bfill-backfill(Fills the null value with the value after it)\n",
    "print(df.fillna(method='bfill'))"
   ]
  },
  {
   "cell_type": "code",
   "execution_count": 47,
   "metadata": {},
   "outputs": [
    {
     "name": "stdout",
     "output_type": "stream",
     "text": [
      "   First Score  Second Score  Third Score\n",
      "0        100.0          30.0          NaN\n",
      "1         90.0          45.0         40.0\n",
      "2         90.0          56.0         80.0\n",
      "3         95.0          56.0         90.0\n"
     ]
    }
   ],
   "source": [
    "#ffill-forwardfill(Fills the null values with the value before it)\n",
    "print(df.fillna(method='ffill'))"
   ]
  },
  {
   "cell_type": "code",
   "execution_count": 48,
   "metadata": {},
   "outputs": [
    {
     "name": "stdout",
     "output_type": "stream",
     "text": [
      "   First Score  Second Score  Third Score\n",
      "0        100.0          30.0          NaN\n",
      "1         90.0          45.0         40.0\n",
      "2         90.0          56.0         80.0\n",
      "3         95.0          56.0         90.0\n"
     ]
    }
   ],
   "source": [
    "print(df.fillna(method='pad')) #Same as ffill"
   ]
  },
  {
   "cell_type": "markdown",
   "metadata": {},
   "source": [
    "5. Apply and apply map functions"
   ]
  },
  {
   "cell_type": "code",
   "execution_count": 49,
   "metadata": {},
   "outputs": [
    {
     "name": "stdout",
     "output_type": "stream",
     "text": [
      "      A   B   C\n",
      "Row1  1  10  20\n",
      "Row2  2  20  40\n",
      "Row3  3  30  60\n",
      "Row4  4  40  80\n"
     ]
    }
   ],
   "source": [
    "\n",
    "import pandas as pd\n",
    "import numpy as np\n",
    "\n",
    "df=pd.DataFrame({'A':[1,2,3,4],\n",
    "                 'B':[10,20,30,40],\n",
    "                 'C':[20,40,60,80]},\n",
    "                index=['Row1','Row2','Row3','Row4'])\n",
    "print(df)\n",
    "\n"
   ]
  },
  {
   "cell_type": "code",
   "execution_count": 50,
   "metadata": {},
   "outputs": [
    {
     "name": "stdout",
     "output_type": "stream",
     "text": [
      "      A   B   C    D\n",
      "Row1  1  10  20   31\n",
      "Row2  2  20  40   62\n",
      "Row3  3  30  60   93\n",
      "Row4  4  40  80  124\n"
     ]
    }
   ],
   "source": [
    "#apply() function is used to call a function in pandas to implement something on specified rows and columns\n",
    "#Sum of rows\n",
    "\n",
    "def custom_sum(row):\n",
    "    return row.sum()\n",
    "\n",
    "df['D']=df.apply(custom_sum, axis=1)\n",
    "print(df)"
   ]
  },
  {
   "cell_type": "code",
   "execution_count": 51,
   "metadata": {},
   "outputs": [
    {
     "name": "stdout",
     "output_type": "stream",
     "text": [
      "       A    B    C    D\n",
      "Row1   1   10   20   31\n",
      "Row2   2   20   40   62\n",
      "Row3   3   30   60   93\n",
      "Row4   4   40   80  124\n",
      "Row5  10  100  200  310\n"
     ]
    }
   ],
   "source": [
    "#Sum of columns\n",
    "df.loc['Row5']=df.apply(custom_sum, axis=0)\n",
    "print(df)"
   ]
  },
  {
   "cell_type": "code",
   "execution_count": 52,
   "metadata": {},
   "outputs": [
    {
     "name": "stdout",
     "output_type": "stream",
     "text": [
      "       A    B    C    D\n",
      "Row1   1   10   20   40\n",
      "Row2   2   20   40   80\n",
      "Row3   3   30   60  120\n",
      "Row4   4   40   80  160\n",
      "Row5  10  100  200  400\n"
     ]
    }
   ],
   "source": [
    "#loc is used for columns\n",
    "#Performing operations on specified column\n",
    "def multiply_by_2(val):\n",
    "    return val*2\n",
    "df['D']=df['C'].apply(multiply_by_2)\n",
    "print(df)"
   ]
  },
  {
   "cell_type": "code",
   "execution_count": 53,
   "metadata": {},
   "outputs": [
    {
     "name": "stdout",
     "output_type": "stream",
     "text": [
      "       A    B    C    D\n",
      "Row1   1   10   20   60\n",
      "Row2   2   20   40  120\n",
      "Row3   3   30   60  180\n",
      "Row4   4   40   80  240\n",
      "Row5  10  100  200  600\n"
     ]
    }
   ],
   "source": [
    "df['D']=df['B'].apply(multiply_by_2)+df['C'].apply(multiply_by_2)\n",
    "print(df)"
   ]
  },
  {
   "cell_type": "code",
   "execution_count": 54,
   "metadata": {},
   "outputs": [
    {
     "name": "stdout",
     "output_type": "stream",
     "text": [
      "        A      B      C       D\n",
      "Row1    1    100    400    3600\n",
      "Row2    4    400   1600   14400\n",
      "Row3    9    900   3600   32400\n",
      "Row4   16   1600   6400   57600\n",
      "Row5  100  10000  40000  360000\n"
     ]
    }
   ],
   "source": [
    "#applymap() is used to implement something to the entire dataframe\n",
    "print(df.applymap(np.square))"
   ]
  },
  {
   "cell_type": "markdown",
   "metadata": {},
   "source": [
    "6. Creating a line graph"
   ]
  },
  {
   "cell_type": "code",
   "execution_count": 55,
   "metadata": {},
   "outputs": [
    {
     "data": {
      "image/png": "[encoded data removed]",
      "text/plain": [
       "<Figure size 640x480 with 1 Axes>"
      ]
     },
     "metadata": {},
     "output_type": "display_data"
    }
   ],
   "source": [
    "import matplotlib.pyplot as plt\n",
    "\n",
    "Year=[2003,2004,2005,2006,2007,2008,2009,2010]\n",
    "Grade=[8.5,8.7,8.8,9.2,9.3,9.9,9.4,9.3]\n",
    "\n",
    "plt.plot(Year, Grade)\n",
    "plt.title('Year Vs Grade')\n",
    "plt.xlabel('Year')\n",
    "plt.ylabel('Grade')\n",
    "plt.show()"
   ]
  },
  {
   "cell_type": "markdown",
   "metadata": {},
   "source": [
    "\n",
    "7. Skew functions"
   ]
  },
  {
   "cell_type": "code",
   "execution_count": 57,
   "metadata": {},
   "outputs": [
    {
     "name": "stdout",
     "output_type": "stream",
     "text": [
      "(10, 5)\n",
      "<class 'pandas.core.frame.DataFrame'>\n",
      "Index: 10 entries, 1 to 10\n",
      "Data columns (total 5 columns):\n",
      " #   Column   Non-Null Count  Dtype  \n",
      "---  ------   --------------  -----  \n",
      " 0   Sl No    9 non-null      object \n",
      " 1   Name     10 non-null     float64\n",
      " 2   Physics  9 non-null      float64\n",
      " 3   Maths    7 non-null      float64\n",
      " 4   Python   0 non-null      float64\n",
      "dtypes: float64(4), object(1)\n",
      "memory usage: 480.0+ bytes\n",
      "None\n",
      "-1.4477072823773884\n",
      "count     9.000000\n",
      "mean     76.888889\n",
      "std      20.575741\n",
      "min      33.000000\n",
      "25%      71.000000\n",
      "50%      83.000000\n",
      "75%      92.000000\n",
      "max      95.000000\n",
      "Name: Physics, dtype: float64\n"
     ]
    },
    {
     "data": {
      "image/png": "[encoded data removed]",
      "text/plain": [
       "<Figure size 640x480 with 1 Axes>"
      ]
     },
     "metadata": {},
     "output_type": "display_data"
    }
   ],
   "source": [
    "\n",
    "import pandas as pd\n",
    "import numpy as np\n",
    "import matplotlib.pyplot as plt\n",
    "\n",
    "df=pd.read_csv(\"./data/dsdata.csv\")\n",
    "print(df.shape)\n",
    "print(df.info())\n",
    "df.describe()\n",
    "\n",
    "print(df['Physics'].skew())\n",
    "print(df['Physics'].describe())\n",
    "\n",
    "#Make sure mute inline plotting option in plots is unchecked\n",
    "plt.boxplot(df[\"Physics\"])\n",
    "plt.show()\n"
   ]
  },
  {
   "cell_type": "code",
   "execution_count": 58,
   "metadata": {},
   "outputs": [
    {
     "data": {
      "text/plain": [
       "<Axes: >"
      ]
     },
     "execution_count": 58,
     "metadata": {},
     "output_type": "execute_result"
    },
    {
     "data": {
      "image/png": "[encoded data removed]",
      "text/plain": [
       "<Figure size 640x480 with 1 Axes>"
      ]
     },
     "metadata": {},
     "output_type": "display_data"
    }
   ],
   "source": [
    "\n",
    "#Histogram\n",
    "df.Physics.hist()\n"
   ]
  },
  {
   "cell_type": "code",
   "execution_count": 59,
   "metadata": {},
   "outputs": [
    {
     "data": {
      "image/png": "[encoded data removed]",
      "text/plain": [
       "<Figure size 1200x600 with 1 Axes>"
      ]
     },
     "metadata": {},
     "output_type": "display_data"
    }
   ],
   "source": [
    "\n",
    "#Scatter plot\n",
    "fig,ax=plt.subplots(figsize=(12,6))\n",
    "ax.scatter(df['Physics'], df['Maths'])\n",
    "ax.set_xlabel('Physics Mark')\n",
    "ax.set_ylabel('Maths Mark')\n",
    "plt.show()\n"
   ]
  },
  {
   "cell_type": "code",
   "execution_count": 60,
   "metadata": {},
   "outputs": [
    {
     "data": {
      "text/plain": [
       "count     7.000000\n",
       "mean     77.857143\n",
       "std      19.117432\n",
       "min      44.000000\n",
       "25%      69.500000\n",
       "50%      78.000000\n",
       "75%      93.000000\n",
       "max      98.000000\n",
       "Name: Maths, dtype: float64"
      ]
     },
     "execution_count": 60,
     "metadata": {},
     "output_type": "execute_result"
    }
   ],
   "source": [
    "\n",
    "#Drops all the values that are less than 0 and greater than 100\n",
    "index=df[(df['Maths']>100)|(df['Maths']<0)].index\n",
    "df.drop(index, inplace=True)\n",
    "df['Maths'].describe()\n"
   ]
  },
  {
   "cell_type": "markdown",
   "metadata": {},
   "source": [
    "\n",
    "8. String functions"
   ]
  },
  {
   "cell_type": "code",
   "execution_count": 61,
   "metadata": {},
   "outputs": [
    {
     "ename": "FileNotFoundError",
     "evalue": "[Errno 2] No such file or directory: 'exercisedata.csv'",
     "output_type": "error",
     "traceback": [
      "\u001b[1;31m---------------------------------------------------------------------------\u001b[0m",
      "\u001b[1;31mFileNotFoundError\u001b[0m                         Traceback (most recent call last)",
      "\u001b[1;32md:\\Sem3\\Notes\\Python\\python_lab\\numpy and pandas\\dataPreprocessing.ipynb Cell 41\u001b[0m line \u001b[0;36m4\n\u001b[0;32m      <a href='vscode-notebook-cell:/d%3A/Sem3/Notes/Python/python_lab/numpy%20and%20pandas/dataPreprocessing.ipynb#X65sZmlsZQ%3D%3D?line=0'>1</a>\u001b[0m \u001b[39mimport\u001b[39;00m \u001b[39mpandas\u001b[39;00m \u001b[39mas\u001b[39;00m \u001b[39mpd\u001b[39;00m\n\u001b[0;32m      <a href='vscode-notebook-cell:/d%3A/Sem3/Notes/Python/python_lab/numpy%20and%20pandas/dataPreprocessing.ipynb#X65sZmlsZQ%3D%3D?line=2'>3</a>\u001b[0m \u001b[39m#Displaying the csv file as Series\u001b[39;00m\n\u001b[1;32m----> <a href='vscode-notebook-cell:/d%3A/Sem3/Notes/Python/python_lab/numpy%20and%20pandas/dataPreprocessing.ipynb#X65sZmlsZQ%3D%3D?line=3'>4</a>\u001b[0m data\u001b[39m=\u001b[39mpd\u001b[39m.\u001b[39;49mread_csv(\u001b[39m'\u001b[39;49m\u001b[39mexercisedata.csv\u001b[39;49m\u001b[39m'\u001b[39;49m)\n\u001b[0;32m      <a href='vscode-notebook-cell:/d%3A/Sem3/Notes/Python/python_lab/numpy%20and%20pandas/dataPreprocessing.ipynb#X65sZmlsZQ%3D%3D?line=4'>5</a>\u001b[0m sr\u001b[39m=\u001b[39mdata[data\u001b[39m.\u001b[39mcolumns[\u001b[39m0\u001b[39m]]   \u001b[39m#Taking the first column alone\u001b[39;00m\n\u001b[0;32m      <a href='vscode-notebook-cell:/d%3A/Sem3/Notes/Python/python_lab/numpy%20and%20pandas/dataPreprocessing.ipynb#X65sZmlsZQ%3D%3D?line=6'>7</a>\u001b[0m \u001b[39mprint\u001b[39m(sr)\n",
      "File \u001b[1;32m~\\AppData\\Roaming\\Python\\Python311\\site-packages\\pandas\\io\\parsers\\readers.py:912\u001b[0m, in \u001b[0;36mread_csv\u001b[1;34m(filepath_or_buffer, sep, delimiter, header, names, index_col, usecols, dtype, engine, converters, true_values, false_values, skipinitialspace, skiprows, skipfooter, nrows, na_values, keep_default_na, na_filter, verbose, skip_blank_lines, parse_dates, infer_datetime_format, keep_date_col, date_parser, date_format, dayfirst, cache_dates, iterator, chunksize, compression, thousands, decimal, lineterminator, quotechar, quoting, doublequote, escapechar, comment, encoding, encoding_errors, dialect, on_bad_lines, delim_whitespace, low_memory, memory_map, float_precision, storage_options, dtype_backend)\u001b[0m\n\u001b[0;32m    899\u001b[0m kwds_defaults \u001b[39m=\u001b[39m _refine_defaults_read(\n\u001b[0;32m    900\u001b[0m     dialect,\n\u001b[0;32m    901\u001b[0m     delimiter,\n\u001b[1;32m   (...)\u001b[0m\n\u001b[0;32m    908\u001b[0m     dtype_backend\u001b[39m=\u001b[39mdtype_backend,\n\u001b[0;32m    909\u001b[0m )\n\u001b[0;32m    910\u001b[0m kwds\u001b[39m.\u001b[39mupdate(kwds_defaults)\n\u001b[1;32m--> 912\u001b[0m \u001b[39mreturn\u001b[39;00m _read(filepath_or_buffer, kwds)\n",
      "File \u001b[1;32m~\\AppData\\Roaming\\Python\\Python311\\site-packages\\pandas\\io\\parsers\\readers.py:577\u001b[0m, in \u001b[0;36m_read\u001b[1;34m(filepath_or_buffer, kwds)\u001b[0m\n\u001b[0;32m    574\u001b[0m _validate_names(kwds\u001b[39m.\u001b[39mget(\u001b[39m\"\u001b[39m\u001b[39mnames\u001b[39m\u001b[39m\"\u001b[39m, \u001b[39mNone\u001b[39;00m))\n\u001b[0;32m    576\u001b[0m \u001b[39m# Create the parser.\u001b[39;00m\n\u001b[1;32m--> 577\u001b[0m parser \u001b[39m=\u001b[39m TextFileReader(filepath_or_buffer, \u001b[39m*\u001b[39;49m\u001b[39m*\u001b[39;49mkwds)\n\u001b[0;32m    579\u001b[0m \u001b[39mif\u001b[39;00m chunksize \u001b[39mor\u001b[39;00m iterator:\n\u001b[0;32m    580\u001b[0m     \u001b[39mreturn\u001b[39;00m parser\n",
      "File \u001b[1;32m~\\AppData\\Roaming\\Python\\Python311\\site-packages\\pandas\\io\\parsers\\readers.py:1407\u001b[0m, in \u001b[0;36mTextFileReader.__init__\u001b[1;34m(self, f, engine, **kwds)\u001b[0m\n\u001b[0;32m   1404\u001b[0m     \u001b[39mself\u001b[39m\u001b[39m.\u001b[39moptions[\u001b[39m\"\u001b[39m\u001b[39mhas_index_names\u001b[39m\u001b[39m\"\u001b[39m] \u001b[39m=\u001b[39m kwds[\u001b[39m\"\u001b[39m\u001b[39mhas_index_names\u001b[39m\u001b[39m\"\u001b[39m]\n\u001b[0;32m   1406\u001b[0m \u001b[39mself\u001b[39m\u001b[39m.\u001b[39mhandles: IOHandles \u001b[39m|\u001b[39m \u001b[39mNone\u001b[39;00m \u001b[39m=\u001b[39m \u001b[39mNone\u001b[39;00m\n\u001b[1;32m-> 1407\u001b[0m \u001b[39mself\u001b[39m\u001b[39m.\u001b[39m_engine \u001b[39m=\u001b[39m \u001b[39mself\u001b[39;49m\u001b[39m.\u001b[39;49m_make_engine(f, \u001b[39mself\u001b[39;49m\u001b[39m.\u001b[39;49mengine)\n",
      "File \u001b[1;32m~\\AppData\\Roaming\\Python\\Python311\\site-packages\\pandas\\io\\parsers\\readers.py:1661\u001b[0m, in \u001b[0;36mTextFileReader._make_engine\u001b[1;34m(self, f, engine)\u001b[0m\n\u001b[0;32m   1659\u001b[0m     \u001b[39mif\u001b[39;00m \u001b[39m\"\u001b[39m\u001b[39mb\u001b[39m\u001b[39m\"\u001b[39m \u001b[39mnot\u001b[39;00m \u001b[39min\u001b[39;00m mode:\n\u001b[0;32m   1660\u001b[0m         mode \u001b[39m+\u001b[39m\u001b[39m=\u001b[39m \u001b[39m\"\u001b[39m\u001b[39mb\u001b[39m\u001b[39m\"\u001b[39m\n\u001b[1;32m-> 1661\u001b[0m \u001b[39mself\u001b[39m\u001b[39m.\u001b[39mhandles \u001b[39m=\u001b[39m get_handle(\n\u001b[0;32m   1662\u001b[0m     f,\n\u001b[0;32m   1663\u001b[0m     mode,\n\u001b[0;32m   1664\u001b[0m     encoding\u001b[39m=\u001b[39;49m\u001b[39mself\u001b[39;49m\u001b[39m.\u001b[39;49moptions\u001b[39m.\u001b[39;49mget(\u001b[39m\"\u001b[39;49m\u001b[39mencoding\u001b[39;49m\u001b[39m\"\u001b[39;49m, \u001b[39mNone\u001b[39;49;00m),\n\u001b[0;32m   1665\u001b[0m     compression\u001b[39m=\u001b[39;49m\u001b[39mself\u001b[39;49m\u001b[39m.\u001b[39;49moptions\u001b[39m.\u001b[39;49mget(\u001b[39m\"\u001b[39;49m\u001b[39mcompression\u001b[39;49m\u001b[39m\"\u001b[39;49m, \u001b[39mNone\u001b[39;49;00m),\n\u001b[0;32m   1666\u001b[0m     memory_map\u001b[39m=\u001b[39;49m\u001b[39mself\u001b[39;49m\u001b[39m.\u001b[39;49moptions\u001b[39m.\u001b[39;49mget(\u001b[39m\"\u001b[39;49m\u001b[39mmemory_map\u001b[39;49m\u001b[39m\"\u001b[39;49m, \u001b[39mFalse\u001b[39;49;00m),\n\u001b[0;32m   1667\u001b[0m     is_text\u001b[39m=\u001b[39;49mis_text,\n\u001b[0;32m   1668\u001b[0m     errors\u001b[39m=\u001b[39;49m\u001b[39mself\u001b[39;49m\u001b[39m.\u001b[39;49moptions\u001b[39m.\u001b[39;49mget(\u001b[39m\"\u001b[39;49m\u001b[39mencoding_errors\u001b[39;49m\u001b[39m\"\u001b[39;49m, \u001b[39m\"\u001b[39;49m\u001b[39mstrict\u001b[39;49m\u001b[39m\"\u001b[39;49m),\n\u001b[0;32m   1669\u001b[0m     storage_options\u001b[39m=\u001b[39;49m\u001b[39mself\u001b[39;49m\u001b[39m.\u001b[39;49moptions\u001b[39m.\u001b[39;49mget(\u001b[39m\"\u001b[39;49m\u001b[39mstorage_options\u001b[39;49m\u001b[39m\"\u001b[39;49m, \u001b[39mNone\u001b[39;49;00m),\n\u001b[0;32m   1670\u001b[0m )\n\u001b[0;32m   1671\u001b[0m \u001b[39massert\u001b[39;00m \u001b[39mself\u001b[39m\u001b[39m.\u001b[39mhandles \u001b[39mis\u001b[39;00m \u001b[39mnot\u001b[39;00m \u001b[39mNone\u001b[39;00m\n\u001b[0;32m   1672\u001b[0m f \u001b[39m=\u001b[39m \u001b[39mself\u001b[39m\u001b[39m.\u001b[39mhandles\u001b[39m.\u001b[39mhandle\n",
      "File \u001b[1;32m~\\AppData\\Roaming\\Python\\Python311\\site-packages\\pandas\\io\\common.py:859\u001b[0m, in \u001b[0;36mget_handle\u001b[1;34m(path_or_buf, mode, encoding, compression, memory_map, is_text, errors, storage_options)\u001b[0m\n\u001b[0;32m    854\u001b[0m \u001b[39melif\u001b[39;00m \u001b[39misinstance\u001b[39m(handle, \u001b[39mstr\u001b[39m):\n\u001b[0;32m    855\u001b[0m     \u001b[39m# Check whether the filename is to be opened in binary mode.\u001b[39;00m\n\u001b[0;32m    856\u001b[0m     \u001b[39m# Binary mode does not support 'encoding' and 'newline'.\u001b[39;00m\n\u001b[0;32m    857\u001b[0m     \u001b[39mif\u001b[39;00m ioargs\u001b[39m.\u001b[39mencoding \u001b[39mand\u001b[39;00m \u001b[39m\"\u001b[39m\u001b[39mb\u001b[39m\u001b[39m\"\u001b[39m \u001b[39mnot\u001b[39;00m \u001b[39min\u001b[39;00m ioargs\u001b[39m.\u001b[39mmode:\n\u001b[0;32m    858\u001b[0m         \u001b[39m# Encoding\u001b[39;00m\n\u001b[1;32m--> 859\u001b[0m         handle \u001b[39m=\u001b[39m \u001b[39mopen\u001b[39m(\n\u001b[0;32m    860\u001b[0m             handle,\n\u001b[0;32m    861\u001b[0m             ioargs\u001b[39m.\u001b[39mmode,\n\u001b[0;32m    862\u001b[0m             encoding\u001b[39m=\u001b[39mioargs\u001b[39m.\u001b[39mencoding,\n\u001b[0;32m    863\u001b[0m             errors\u001b[39m=\u001b[39merrors,\n\u001b[0;32m    864\u001b[0m             newline\u001b[39m=\u001b[39m\u001b[39m\"\u001b[39m\u001b[39m\"\u001b[39m,\n\u001b[0;32m    865\u001b[0m         )\n\u001b[0;32m    866\u001b[0m     \u001b[39melse\u001b[39;00m:\n\u001b[0;32m    867\u001b[0m         \u001b[39m# Binary mode\u001b[39;00m\n\u001b[0;32m    868\u001b[0m         handle \u001b[39m=\u001b[39m \u001b[39mopen\u001b[39m(handle, ioargs\u001b[39m.\u001b[39mmode)\n",
      "\u001b[1;31mFileNotFoundError\u001b[0m: [Errno 2] No such file or directory: 'exercisedata.csv'"
     ]
    }
   ],
   "source": [
    "\n",
    "import pandas as pd\n",
    "\n",
    "#Displaying the csv file as Series\n",
    "data=pd.read_csv('exercisedata.csv')\n",
    "sr=data[data.columns[0]]   #Taking the first column alone\n",
    "\n",
    "print(sr)\n",
    "\n",
    "print(sr.str.capitalize())\n",
    "\n",
    "print(sr.str.lower())\n",
    "\n",
    "print(sr.str.len())\n",
    "\n",
    "print(sr.str.split())\n",
    "\n",
    "print(sr.str.slice(0,3))\n",
    "\n",
    "print(sr.str.startswith('A'))\n",
    "\n",
    "print(sr.str.endswith('e'))"
   ]
  }
 ],
 "metadata": {
  "kernelspec": {
   "display_name": "Python 3",
   "language": "python",
   "name": "python3"
  },
  "language_info": {
   "codemirror_mode": {
    "name": "ipython",
    "version": 3
   },
   "file_extension": ".py",
   "mimetype": "text/x-python",
   "name": "python",
   "nbconvert_exporter": "python",
   "pygments_lexer": "ipython3",
   "version": "3.11.4"
  },
  "orig_nbformat": 4
 },
 "nbformat": 4,
 "nbformat_minor": 2
}

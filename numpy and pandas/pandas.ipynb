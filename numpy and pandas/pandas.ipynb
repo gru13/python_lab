{
 "cells": [
  {
   "cell_type": "markdown",
   "metadata": {},
   "source": [
    "### MODULE 4: DATA MANIPULATION WITH PANDAS ###\n"
   ]
  },
  {
   "cell_type": "markdown",
   "metadata": {},
   "source": [
    "1. Reading a CSV file (Refer 12. and 13. for operations on csv file)\n"
   ]
  },
  {
   "cell_type": "code",
   "execution_count": 257,
   "metadata": {},
   "outputs": [
    {
     "name": "stdout",
     "output_type": "stream",
     "text": [
      "   a   b     c\n",
      "0  1   2   8.0\n",
      "1  5  10  20.0\n"
     ]
    }
   ],
   "source": [
    "import pandas as pd\n",
    "df = pd.read_csv('./data/Pandadata.csv')\n",
    "print(df.to_string())"
   ]
  },
  {
   "cell_type": "markdown",
   "metadata": {},
   "source": [
    "\n",
    "OR\n"
   ]
  },
  {
   "cell_type": "code",
   "execution_count": 258,
   "metadata": {},
   "outputs": [
    {
     "name": "stdout",
     "output_type": "stream",
     "text": [
      "   a   b     c\n",
      "0  1   2   8.0\n",
      "1  5  10  20.0\n"
     ]
    }
   ],
   "source": [
    "import pandas as pd\n",
    "df = pd.read_csv('./data/Pandadata.csv')\n",
    "print(df)"
   ]
  },
  {
   "cell_type": "markdown",
   "metadata": {},
   "source": [
    "\n",
    "2. Creating a dataframe (Check 5. for another method)\n"
   ]
  },
  {
   "cell_type": "code",
   "execution_count": 259,
   "metadata": {},
   "outputs": [
    {
     "name": "stdout",
     "output_type": "stream",
     "text": [
      "   a   b     c\n",
      "0  1   2   NaN\n",
      "1  5  10  20.0\n"
     ]
    }
   ],
   "source": [
    "import pandas as pd\n",
    "data = [{'a': 1, 'b': 2}, {'a': 5, 'b': 10, 'c': 20}]\n",
    "df = pd.DataFrame(data)\n",
    "print(df)"
   ]
  },
  {
   "cell_type": "markdown",
   "metadata": {},
   "source": [
    "\n",
    "3. Naming the rows"
   ]
  },
  {
   "cell_type": "code",
   "execution_count": 260,
   "metadata": {},
   "outputs": [
    {
     "name": "stdout",
     "output_type": "stream",
     "text": [
      "        a   b     c\n",
      "first   1   2   NaN\n",
      "second  5  10  20.0\n"
     ]
    }
   ],
   "source": [
    "\n",
    "import pandas as pd\n",
    "data = [{'a': 1, 'b': 2}, {'a': 5, 'b': 10, 'c': 20}]\n",
    "df = pd.DataFrame(data, index=['first', 'second'])\n",
    "print(df)"
   ]
  },
  {
   "cell_type": "markdown",
   "metadata": {},
   "source": [
    "4. Storing a dataframe with specified index and columns"
   ]
  },
  {
   "cell_type": "code",
   "execution_count": 261,
   "metadata": {},
   "outputs": [],
   "source": [
    "\n",
    "import pandas as pd\n",
    "data = [{'a': 1, 'b': 2}, {'a': 5, 'b': 10, 'c': 20}]"
   ]
  },
  {
   "cell_type": "code",
   "execution_count": 262,
   "metadata": {},
   "outputs": [
    {
     "name": "stdout",
     "output_type": "stream",
     "text": [
      "        a   b\n",
      "first   1   2\n",
      "second  5  10\n"
     ]
    }
   ],
   "source": [
    "\n",
    "# with two column indices, the values are  same as dictionary keys\n",
    "df1 = pd.DataFrame(data, index=['first', 'second'], columns=['a', 'b'])\n",
    "print(df1)"
   ]
  },
  {
   "cell_type": "code",
   "execution_count": 263,
   "metadata": {},
   "outputs": [
    {
     "name": "stdout",
     "output_type": "stream",
     "text": [
      "        a  b1\n",
      "first   1 NaN\n",
      "second  5 NaN\n"
     ]
    }
   ],
   "source": [
    "# when the column name is specified is not available, NaN is assigned to the unknown values\n",
    "df2 = pd.DataFrame(data, index=['first', 'second'], columns=['a', 'b1'])\n",
    "print(df2)"
   ]
  },
  {
   "cell_type": "markdown",
   "metadata": {},
   "source": [
    "5. Creating dataframes using series"
   ]
  },
  {
   "cell_type": "code",
   "execution_count": 264,
   "metadata": {},
   "outputs": [
    {
     "name": "stdout",
     "output_type": "stream",
     "text": [
      "   one  two\n",
      "a  1.0    1\n",
      "b  2.0    2\n",
      "c  3.0    3\n",
      "d  NaN    4\n"
     ]
    }
   ],
   "source": [
    "\n",
    "import pandas as pd\n",
    "d = {'one': pd.Series([1, 2, 3], index=['a', 'b', 'c']),\n",
    "     'two': pd.Series([1, 2, 3, 4], index=['a', 'b', 'c', 'd'])}\n",
    "df = pd.DataFrame(d)\n",
    "print(df)"
   ]
  },
  {
   "cell_type": "code",
   "execution_count": 265,
   "metadata": {},
   "outputs": [
    {
     "name": "stdout",
     "output_type": "stream",
     "text": [
      "   one  two  three\n",
      "a  1.0    1   10.0\n",
      "b  2.0    2   20.0\n",
      "c  3.0    3   30.0\n",
      "d  NaN    4    NaN\n"
     ]
    }
   ],
   "source": [
    "# Adding new columns\n",
    "df[\"three\"] = pd.Series([10, 20, 30], index=['a', 'b', 'c'])\n",
    "print(df)"
   ]
  },
  {
   "cell_type": "code",
   "execution_count": 266,
   "metadata": {},
   "outputs": [
    {
     "name": "stdout",
     "output_type": "stream",
     "text": [
      "   one  two  three  four\n",
      "a  1.0    1   10.0  11.0\n",
      "b  2.0    2   20.0  22.0\n",
      "c  3.0    3   30.0  33.0\n",
      "d  NaN    4    NaN   NaN\n"
     ]
    }
   ],
   "source": [
    "#Adding columns by performing operations on existing columns\n",
    "df['four']=df['one']+df['three']\n",
    "print(df)"
   ]
  },
  {
   "cell_type": "markdown",
   "metadata": {},
   "source": [
    "\n",
    "6. Generating random values"
   ]
  },
  {
   "cell_type": "code",
   "execution_count": 267,
   "metadata": {},
   "outputs": [
    {
     "name": "stdout",
     "output_type": "stream",
     "text": [
      "Index(['a', 'b', 'c', 'd', 'e'], dtype='object')\n",
      "a   -0.368969\n",
      "b    0.020912\n",
      "c   -1.948516\n",
      "d    0.672348\n",
      "e    0.624893\n",
      "dtype: float64\n",
      "False\n"
     ]
    }
   ],
   "source": [
    "import numpy as np\n",
    "import pandas as pd\n",
    "\n",
    "#rand(uniform distribution) can also be replaced by randn(non uniform distribution)\n",
    "s=pd.Series(np.random.randn(5), index=[\"a\", \"b\", \"c\", \"d\", \"e\"])\n",
    "print(s.index)         #Prints the index values alone\n",
    "print(s)               #Prints the dataframe\n",
    "print(s.empty)        #Returns true if the dataframe is empty else returns false"
   ]
  },
  {
   "cell_type": "markdown",
   "metadata": {},
   "source": [
    "7. Sorting data in dataframes (sorts the index)  (Refer 13. For sorting data in a csv file)\n"
   ]
  },
  {
   "cell_type": "code",
   "execution_count": 268,
   "metadata": {},
   "outputs": [
    {
     "name": "stdout",
     "output_type": "stream",
     "text": [
      "    Column1   Column2\n",
      "1 -1.098333  0.445552\n",
      "4 -0.815676 -3.111770\n",
      "6  0.408023  0.072838\n",
      "2 -1.199327 -1.436075\n",
      "3  1.925472  1.677458\n",
      "    Column1   Column2\n",
      "1 -1.098333  0.445552\n",
      "2 -1.199327 -1.436075\n",
      "3  1.925472  1.677458\n",
      "4 -0.815676 -3.111770\n",
      "6  0.408023  0.072838\n"
     ]
    }
   ],
   "source": [
    "\n",
    "import pandas as pd\n",
    "\n",
    "#(5,2) indicates 5 rows and 2 columns\n",
    "unsorted_df=pd.DataFrame(np.random.randn(5,2),  index=[1,4,6,2,3], columns=['Column1', 'Column2'])\n",
    "print(unsorted_df)\n",
    "\n",
    "sorted_df=unsorted_df.sort_index()              #the index is sorted\n",
    "print(sorted_df)\n",
    "\n"
   ]
  },
  {
   "cell_type": "markdown",
   "metadata": {},
   "source": [
    "\n",
    "8. Queries in DataFrames (Printing required values) (refer 15. To print required values from a csv file)\n"
   ]
  },
  {
   "cell_type": "code",
   "execution_count": 269,
   "metadata": {},
   "outputs": [
    {
     "name": "stdout",
     "output_type": "stream",
     "text": [
      "Original DataFrame\n",
      "-----------------\n",
      "    a  b\n",
      "0  1  2\n",
      "1  4  0\n",
      "2  7  8\n",
      "3  2  7\n",
      "\n",
      "Filtered DataFrame\n",
      "-----------------\n",
      "    a  b\n",
      "2  7  8\n",
      "3  2  7\n"
     ]
    }
   ],
   "source": [
    "\n",
    "import pandas as pd\n",
    "\n",
    "df=pd.DataFrame({'a':[1,4,7,2], 'b':[2,0,8,7]})\n",
    "\n",
    "#get rows where b>4\n",
    "filtered_df=df.query('b>4')\n",
    "\n",
    "print('Original DataFrame\\n-----------------\\n',df)\n",
    "print('\\nFiltered DataFrame\\n-----------------\\n',filtered_df)\n"
   ]
  },
  {
   "cell_type": "code",
   "execution_count": 270,
   "metadata": {},
   "outputs": [
    {
     "name": "stdout",
     "output_type": "stream",
     "text": [
      "0    1\n",
      "1    4\n",
      "2    7\n",
      "3    2\n",
      "Name: a, dtype: int64\n"
     ]
    }
   ],
   "source": [
    "#print select columns\n",
    "a=df.a\n",
    "print(a)"
   ]
  },
  {
   "cell_type": "markdown",
   "metadata": {},
   "source": [
    "\n",
    "9. Printing the number of unique values"
   ]
  },
  {
   "cell_type": "code",
   "execution_count": 271,
   "metadata": {},
   "outputs": [
    {
     "name": "stdout",
     "output_type": "stream",
     "text": [
      "    A   B   C   D\n",
      "0  14   5  20  14\n",
      "1   4   2  20   3\n",
      "2   5  54   7   6\n",
      "3   4   3   3   2\n",
      "4   1   2   8   6\n"
     ]
    }
   ],
   "source": [
    "\n",
    "import pandas as pd\n",
    "\n",
    "df=pd.DataFrame({\"A\":[14,4,5,4,1],\n",
    "                       \"B\":[5,2,54,3,2],\n",
    "                       \"C\":[20,20,7,3,8],\n",
    "                       \"D\":[14,3,6,2,6]})\n",
    "\n",
    "print(df)"
   ]
  },
  {
   "cell_type": "code",
   "execution_count": 272,
   "metadata": {},
   "outputs": [
    {
     "name": "stdout",
     "output_type": "stream",
     "text": [
      "0    3\n",
      "1    4\n",
      "2    4\n",
      "3    3\n",
      "4    4\n",
      "dtype: int64\n"
     ]
    }
   ],
   "source": [
    "#printing unique values\n",
    "print(df.nunique(axis=1))      #axis = 0 is rows, axis = 1 is columns\n",
    "#df.A.nunique() gives the number of unique values in A alone"
   ]
  },
  {
   "cell_type": "markdown",
   "metadata": {},
   "source": [
    "10.  Creating a dataframe using dictionary and finding the max and min values in rows and columns"
   ]
  },
  {
   "cell_type": "code",
   "execution_count": 273,
   "metadata": {},
   "outputs": [
    {
     "name": "stdout",
     "output_type": "stream",
     "text": [
      "DataFrame\n",
      "----------\n",
      "   physics  chemistry  mathematics\n",
      "0       68         84           78\n",
      "1       74         56           88\n",
      "2       77         73           82\n",
      "3       78         69           87\n"
     ]
    }
   ],
   "source": [
    "import pandas as pd\n",
    "\n",
    "#Creating a dataframe using dictionary\n",
    "\n",
    "mydictionary={'physics':[68,74,77,78],\n",
    "              'chemistry':[84,56,73,69],\n",
    "              'mathematics':[78,88,82,87]}\n",
    "\n",
    "\n",
    "df_marks=pd.DataFrame(mydictionary)\n",
    "print('DataFrame\\n----------')\n",
    "print(df_marks)\n"
   ]
  },
  {
   "cell_type": "code",
   "execution_count": 274,
   "metadata": {},
   "outputs": [
    {
     "name": "stdout",
     "output_type": "stream",
     "text": [
      "\n",
      "Maximum Value\n",
      "------\n",
      "0    84\n",
      "1    88\n",
      "2    82\n",
      "3    87\n",
      "dtype: int64\n"
     ]
    }
   ],
   "source": [
    "#calculate max along row\n",
    "mx=df_marks.max(axis=1)\n",
    "print('\\nMaximum Value\\n------')\n",
    "print(mx)"
   ]
  },
  {
   "cell_type": "code",
   "execution_count": 275,
   "metadata": {},
   "outputs": [
    {
     "name": "stdout",
     "output_type": "stream",
     "text": [
      "\n",
      "Maximum Value\n",
      "------\n",
      "physics        78\n",
      "chemistry      84\n",
      "mathematics    88\n",
      "dtype: int64\n"
     ]
    }
   ],
   "source": [
    "#calculate max along columns\n",
    "mx=df_marks.max(axis=0)\n",
    "print('\\nMaximum Value\\n------')\n",
    "print(mx)"
   ]
  },
  {
   "cell_type": "code",
   "execution_count": 276,
   "metadata": {},
   "outputs": [
    {
     "name": "stdout",
     "output_type": "stream",
     "text": [
      "\n",
      "Minimum Value\n",
      "------\n",
      "0    68\n",
      "1    56\n",
      "2    73\n",
      "3    69\n",
      "dtype: int64\n"
     ]
    }
   ],
   "source": [
    "#calculate min along row\n",
    "mn=df_marks.min(axis=1)\n",
    "print('\\nMinimum Value\\n------')\n",
    "print(mn)"
   ]
  },
  {
   "cell_type": "code",
   "execution_count": 277,
   "metadata": {},
   "outputs": [
    {
     "name": "stdout",
     "output_type": "stream",
     "text": [
      "\n",
      "Minimum Value\n",
      "------\n",
      "physics        68\n",
      "chemistry      56\n",
      "mathematics    78\n",
      "dtype: int64\n"
     ]
    }
   ],
   "source": [
    "#calculate max along columns\n",
    "mn=df_marks.min(axis=0)\n",
    "print('\\nMinimum Value\\n------')\n",
    "print(mn)"
   ]
  },
  {
   "cell_type": "markdown",
   "metadata": {},
   "source": [
    "11.  Iteration in dataframes (Printing elements in a desired row)"
   ]
  },
  {
   "cell_type": "code",
   "execution_count": 278,
   "metadata": {},
   "outputs": [
    {
     "name": "stdout",
     "output_type": "stream",
     "text": [
      "   0  1  2\n",
      "0  a  b  c\n",
      "1  d  e  f\n",
      "2  g  h  i\n",
      "3  j  k  l\n",
      "d\n",
      "e\n",
      "f\n"
     ]
    }
   ],
   "source": [
    "import pandas as pd\n",
    "\n",
    "df=pd.DataFrame([['a','b','c'],\n",
    "                       ['d','e','f'],\n",
    "                        ['g','h','i'],\n",
    "                        ['j','k','l']])\n",
    "print(df)\n",
    "\n",
    "#point the index to the row that needs to be printed\n",
    "row=df.iloc[1]                   #index=1 => second row\n",
    "length=row.size\n",
    "for i in range(length):\n",
    "    print(row[i])"
   ]
  },
  {
   "cell_type": "markdown",
   "metadata": {},
   "source": [
    "12.  Operations on CSV file "
   ]
  },
  {
   "cell_type": "code",
   "execution_count": 279,
   "metadata": {},
   "outputs": [
    {
     "name": "stdout",
     "output_type": "stream",
     "text": [
      "NAME          object\n",
      "THEORY         int64\n",
      "PRACTICALS     int64\n",
      "dtype: object\n",
      "        NAME  THEORY  PRACTICALS\n",
      "ROLL NO                         \n",
      "1         Aa      97          10\n",
      "2         Bb      98          10\n",
      "3         Cc      93          10\n",
      "4         Dd      94          10\n",
      "5         Ee      92          98\n",
      "6         Ff       0           0\n",
      "7         Gg      97          10\n",
      "8         Hh      93          10\n",
      "9         Ii      90          10\n",
      "10        Jj     100          10\n",
      "11        Kk      96          10\n",
      "12        Ll      95          10\n",
      "13        Mm     100          10\n",
      "14        Nn      91          10\n"
     ]
    }
   ],
   "source": [
    "import pandas as pd\n",
    "\n",
    "#change the index_col values to get the mentioned column as the first column\n",
    "df=pd.read_csv(\"./data/Pandadata1.csv\", index_col=1)\n",
    "\n",
    "#Everytime the index value is changed, the data is over written in the excel file that is newlysaved\n",
    "df.to_excel(\"./data/pdata.xlsx\")       #Saves the data as a new excel file\n",
    "print(df.dtypes)\n",
    "print(df)"
   ]
  },
  {
   "cell_type": "code",
   "execution_count": 280,
   "metadata": {},
   "outputs": [
    {
     "name": "stdout",
     "output_type": "stream",
     "text": [
      "(14, 3)\n",
      "(14, 3)\n",
      "        NAME  THEORY  PRACTICALS\n",
      "ROLL NO                         \n",
      "1         Aa      97          10\n",
      "2         Bb      98          10\n",
      "3         Cc      93          10\n",
      "4         Dd      94          10\n",
      "5         Ee      92          98\n",
      "6         Ff       0           0\n",
      "7         Gg      97          10\n",
      "8         Hh      93          10\n",
      "9         Ii      90          10\n",
      "10        Jj     100          10\n",
      "11        Kk      96          10\n",
      "12        Ll      95          10\n",
      "13        Mm     100          10\n",
      "14        Nn      91          10\n"
     ]
    }
   ],
   "source": [
    "#To remove the duplicates\n",
    "print(df.shape)  #Prints the shape of the dataframe before removing the duplicates\n",
    "df=df.drop_duplicates()  #Columns can be mentioned within the parantheses to remove duplicates in that col umn.Eg: df.drop_duplicates([“THEORY”])\n",
    "print(df.shape)    #Prints the shape of the dataframe after removing the duplicates\n",
    "print(df)           #Prints without the duplicates(The last three entries are removed)\n"
   ]
  },
  {
   "cell_type": "code",
   "execution_count": 281,
   "metadata": {},
   "outputs": [
    {
     "name": "stdout",
     "output_type": "stream",
     "text": [
      "<class 'pandas.core.frame.DataFrame'>\n",
      "Index: 14 entries, 1 to 14\n",
      "Data columns (total 3 columns):\n",
      " #   Column      Non-Null Count  Dtype \n",
      "---  ------      --------------  ----- \n",
      " 0   NAME        14 non-null     object\n",
      " 1   THEORY      14 non-null     int64 \n",
      " 2   PRACTICALS  14 non-null     int64 \n",
      "dtypes: int64(2), object(1)\n",
      "memory usage: 448.0+ bytes\n",
      "None\n"
     ]
    }
   ],
   "source": [
    "\n",
    "print(df.info())           #Prints complete information regarding the dataframe\n"
   ]
  },
  {
   "cell_type": "code",
   "execution_count": 282,
   "metadata": {},
   "outputs": [
    {
     "name": "stdout",
     "output_type": "stream",
     "text": [
      "        NAME  THEORY  PRACTICALS\n",
      "ROLL NO                         \n",
      "1         Aa      97          10\n",
      "2         Bb      98          10\n",
      "3         Cc      93          10\n",
      "4         Dd      94          10\n",
      "5         Ee      92          98\n",
      "        NAME  THEORY  PRACTICALS\n",
      "ROLL NO                         \n",
      "1         Aa      97          10\n",
      "2         Bb      98          10\n"
     ]
    }
   ],
   "source": [
    "#the head command by default prints the first 5 rows.\n",
    "#A value has to be mentioned within the head parantheses to print the desired ro ws\n",
    "\n",
    "print(df.head())\n",
    "print(df.head(2))"
   ]
  },
  {
   "cell_type": "code",
   "execution_count": 283,
   "metadata": {},
   "outputs": [
    {
     "name": "stdout",
     "output_type": "stream",
     "text": [
      "        NAME  THEORY  PRACTICALS\n",
      "ROLL NO                         \n",
      "10        Jj     100          10\n",
      "11        Kk      96          10\n",
      "12        Ll      95          10\n",
      "13        Mm     100          10\n",
      "14        Nn      91          10\n",
      "        NAME  THEORY  PRACTICALS\n",
      "ROLL NO                         \n",
      "8         Hh      93          10\n",
      "9         Ii      90          10\n",
      "10        Jj     100          10\n",
      "11        Kk      96          10\n",
      "12        Ll      95          10\n",
      "13        Mm     100          10\n",
      "14        Nn      91          10\n"
     ]
    }
   ],
   "source": [
    "#the tail command by default prints the last 5 rows.\n",
    "#A value has to be mentioned within the head parentheses to print the desired rows\n",
    "\n",
    "print(df.tail())\n",
    "print(df.tail(7))"
   ]
  },
  {
   "cell_type": "markdown",
   "metadata": {},
   "source": [
    "13.  Filtering data from a CSV file (Refer 7. for other sorting operations) (Refer 15. for filters)\n"
   ]
  },
  {
   "cell_type": "code",
   "execution_count": 284,
   "metadata": {},
   "outputs": [],
   "source": [
    "import pandas as pd\n",
    "\n",
    "data=pd.read_csv(\"./data/Pandadata1.csv\")\n"
   ]
  },
  {
   "cell_type": "code",
   "execution_count": 285,
   "metadata": {},
   "outputs": [],
   "source": [
    "\n",
    "#sorting dataframe\n",
    "data.sort_values(\"NAME\",inplace=True)                 #Sorts the specified column\n"
   ]
  },
  {
   "cell_type": "code",
   "execution_count": 286,
   "metadata": {},
   "outputs": [],
   "source": [
    "\n",
    "#making boolean series for a name\n",
    "filter=data[\"PRACTICALS\"]==10\n"
   ]
  },
  {
   "cell_type": "code",
   "execution_count": 287,
   "metadata": {},
   "outputs": [],
   "source": [
    "\n",
    "#filtering data\n",
    "data.where(filter, inplace=True)\n"
   ]
  },
  {
   "cell_type": "code",
   "execution_count": 288,
   "metadata": {},
   "outputs": [
    {
     "name": "stdout",
     "output_type": "stream",
     "text": [
      "   NAME  ROLL NO  THEORY  PRACTICALS\n",
      "0    Aa      1.0    97.0        10.0\n",
      "1    Bb      2.0    98.0        10.0\n",
      "2    Cc      3.0    93.0        10.0\n",
      "3    Dd      4.0    94.0        10.0\n",
      "4   NaN      NaN     NaN         NaN\n",
      "5   NaN      NaN     NaN         NaN\n",
      "6    Gg      7.0    97.0        10.0\n",
      "7    Hh      8.0    93.0        10.0\n",
      "8    Ii      9.0    90.0        10.0\n",
      "9    Jj     10.0   100.0        10.0\n",
      "10   Kk     11.0    96.0        10.0\n",
      "11   Ll     12.0    95.0        10.0\n",
      "12   Mm     13.0   100.0        10.0\n",
      "13   Nn     14.0    91.0        10.0\n"
     ]
    }
   ],
   "source": [
    "\n",
    "print(data)"
   ]
  },
  {
   "cell_type": "markdown",
   "metadata": {},
   "source": [
    "14.  Dropping columns from an existing CSV file"
   ]
  },
  {
   "cell_type": "code",
   "execution_count": 289,
   "metadata": {},
   "outputs": [
    {
     "name": "stdout",
     "output_type": "stream",
     "text": [
      "        NAME  THEORY  PRACTICALS\n",
      "ROLL NO                         \n",
      "1         Aa      97          10\n",
      "2         Bb      98          10\n",
      "3         Cc      93          10\n",
      "4         Dd      94          10\n",
      "5         Ee      92          98\n",
      "6         Ff       0           0\n",
      "7         Gg      97          10\n",
      "8         Hh      93          10\n",
      "9         Ii      90          10\n",
      "10        Jj     100          10\n",
      "11        Kk      96          10\n",
      "12        Ll      95          10\n",
      "13        Mm     100          10\n",
      "14        Nn      91          10\n"
     ]
    }
   ],
   "source": [
    "import pandas as pd\n",
    "\n",
    "data=pd.read_csv(\"./data/Pandadata1.csv\", index_col=\"ROLL NO\")\n",
    "print(data)"
   ]
  },
  {
   "cell_type": "code",
   "execution_count": 290,
   "metadata": {},
   "outputs": [
    {
     "name": "stdout",
     "output_type": "stream",
     "text": [
      "        NAME  THEORY\n",
      "ROLL NO             \n",
      "1         Aa      97\n",
      "2         Bb      98\n",
      "3         Cc      93\n",
      "4         Dd      94\n",
      "5         Ee      92\n",
      "6         Ff       0\n",
      "7         Gg      97\n",
      "8         Hh      93\n",
      "9         Ii      90\n",
      "10        Jj     100\n",
      "11        Kk      96\n",
      "12        Ll      95\n",
      "13        Mm     100\n",
      "14        Nn      91\n"
     ]
    }
   ],
   "source": [
    "# Dropping the passed columns\n",
    "#[\"Practicals\",\"Theory] can be used to drop more columns\n",
    "data.drop([\"PRACTICALS\"], axis=1, inplace=True)       #axis=1 – Columns\n",
    "print(data)"
   ]
  },
  {
   "cell_type": "code",
   "execution_count": 291,
   "metadata": {},
   "outputs": [
    {
     "name": "stdout",
     "output_type": "stream",
     "text": [
      "        NAME  THEORY\n",
      "ROLL NO             \n",
      "1         Aa      97\n",
      "3         Cc      93\n",
      "4         Dd      94\n",
      "5         Ee      92\n",
      "6         Ff       0\n",
      "7         Gg      97\n",
      "8         Hh      93\n",
      "9         Ii      90\n",
      "10        Jj     100\n",
      "11        Kk      96\n",
      "12        Ll      95\n",
      "13        Mm     100\n",
      "14        Nn      91\n"
     ]
    }
   ],
   "source": [
    "#Dropping the passed rows\n",
    "#[1,2] can be used to drop more rows\n",
    "data.drop([2], axis=0, inplace=True)   #axis=0 – Rows\n",
    "print(data)"
   ]
  },
  {
   "cell_type": "markdown",
   "metadata": {},
   "source": [
    "15.  Selecting and printing values from a csv file based on conditions (Refer 13. for similar operations)"
   ]
  },
  {
   "cell_type": "code",
   "execution_count": 292,
   "metadata": {},
   "outputs": [
    {
     "name": "stdout",
     "output_type": "stream",
     "text": [
      "   NAME  ROLL NO  THEORY  PRACTICALS\n",
      "0    Aa        1      97          10\n",
      "1    Bb        2      98          10\n",
      "2    Cc        3      93          10\n",
      "3    Dd        4      94          10\n",
      "4    Ee        5      92          98\n",
      "5    Ff        6       0           0\n",
      "6    Gg        7      97          10\n",
      "7    Hh        8      93          10\n",
      "8    Ii        9      90          10\n",
      "9    Jj       10     100          10\n",
      "10   Kk       11      96          10\n",
      "11   Ll       12      95          10\n",
      "12   Mm       13     100          10\n",
      "13   Nn       14      91          10\n"
     ]
    }
   ],
   "source": [
    "import pandas as pd\n",
    "\n",
    "data=pd.read_csv(\"./data/Pandadata1.csv\")\n",
    "print(data)\n"
   ]
  },
  {
   "cell_type": "code",
   "execution_count": 293,
   "metadata": {},
   "outputs": [
    {
     "name": "stdout",
     "output_type": "stream",
     "text": [
      "0      True\n",
      "1      True\n",
      "2      True\n",
      "3      True\n",
      "4      True\n",
      "5     False\n",
      "6      True\n",
      "7      True\n",
      "8      True\n",
      "9      True\n",
      "10     True\n",
      "11     True\n",
      "12     True\n",
      "13     True\n",
      "Name: THEORY, dtype: bool\n"
     ]
    }
   ],
   "source": [
    "\n",
    "filter=data[\"THEORY\"]>0\n",
    "print(filter)"
   ]
  },
  {
   "cell_type": "code",
   "execution_count": 294,
   "metadata": {},
   "outputs": [
    {
     "name": "stdout",
     "output_type": "stream",
     "text": [
      "   NAME  ROLL NO  THEORY  PRACTICALS\n",
      "9    Jj       10     100          10\n",
      "10   Kk       11      96          10\n",
      "11   Ll       12      95          10\n",
      "12   Mm       13     100          10\n",
      "13   Nn       14      91          10\n"
     ]
    }
   ],
   "source": [
    "\n",
    "#Printing a row based on conditions\n",
    "row=data.loc[data[\"ROLL NO\"]>9]\n",
    "print(row)\n",
    "\n"
   ]
  },
  {
   "cell_type": "markdown",
   "metadata": {},
   "source": [
    "16.  To find the rank of the dataframe"
   ]
  },
  {
   "cell_type": "code",
   "execution_count": 295,
   "metadata": {},
   "outputs": [
    {
     "name": "stdout",
     "output_type": "stream",
     "text": [
      "   NAME  ROLL NO  THEORY  PRACTICALS\n",
      "0    Aa        1      97          10\n",
      "1    Bb        2      98          10\n",
      "2    Cc        3      93          10\n",
      "3    Dd        4      94          10\n",
      "4    Ee        5      92          98\n",
      "5    Ff        6       0           0\n",
      "6    Gg        7      97          10\n",
      "7    Hh        8      93          10\n",
      "8    Ii        9      90          10\n",
      "9    Jj       10     100          10\n",
      "10   Kk       11      96          10\n",
      "11   Ll       12      95          10\n",
      "12   Mm       13     100          10\n",
      "13   Nn       14      91          10\n"
     ]
    }
   ],
   "source": [
    "import pandas as pd\n",
    "\n",
    "data=pd.read_csv(\"./data/Pandadata1.csv\")\n",
    "print(data)\n"
   ]
  },
  {
   "cell_type": "code",
   "execution_count": 296,
   "metadata": {},
   "outputs": [
    {
     "name": "stdout",
     "output_type": "stream",
     "text": [
      "    NAME  ROLL NO  THEORY  PRACTICALS\n",
      "0    1.0      1.0    10.5         7.5\n",
      "1    2.0      2.0    12.0         7.5\n",
      "2    3.0      3.0     5.5         7.5\n",
      "3    4.0      4.0     7.0         7.5\n",
      "4    5.0      5.0     4.0        14.0\n",
      "5    6.0      6.0     1.0         1.0\n",
      "6    7.0      7.0    10.5         7.5\n",
      "7    8.0      8.0     5.5         7.5\n",
      "8    9.0      9.0     2.0         7.5\n",
      "9   10.0     10.0    13.5         7.5\n",
      "10  11.0     11.0     9.0         7.5\n",
      "11  12.0     12.0     8.0         7.5\n",
      "12  13.0     13.0    13.5         7.5\n",
      "13  14.0     14.0     3.0         7.5\n"
     ]
    }
   ],
   "source": [
    "#Returns the rank based on the position\n",
    "print(data.rank())"
   ]
  },
  {
   "cell_type": "markdown",
   "metadata": {},
   "source": [
    "17.  Sorting the index of a csv file"
   ]
  },
  {
   "cell_type": "code",
   "execution_count": 297,
   "metadata": {},
   "outputs": [
    {
     "name": "stdout",
     "output_type": "stream",
     "text": [
      "       NAME  ROLL NO  PRACTICALS\n",
      "THEORY                          \n",
      "0        Ff        6           0\n",
      "90       Ii        9          10\n",
      "91       Nn       14          10\n",
      "92       Ee        5          98\n",
      "93       Cc        3          10\n",
      "93       Hh        8          10\n",
      "94       Dd        4          10\n",
      "95       Ll       12          10\n",
      "96       Kk       11          10\n",
      "97       Aa        1          10\n",
      "97       Gg        7          10\n",
      "98       Bb        2          10\n",
      "100      Jj       10          10\n",
      "100      Mm       13          10\n"
     ]
    }
   ],
   "source": [
    "import pandas as pd\n",
    "\n",
    "df=pd.read_csv(\"./data/Pandadata1.csv\", index_col=2)\n",
    "sorteddf=df.sort_index()\n",
    "print(sorteddf)\n",
    "\n"
   ]
  },
  {
   "cell_type": "markdown",
   "metadata": {},
   "source": [
    "18.  Finding the count of values"
   ]
  },
  {
   "cell_type": "code",
   "execution_count": 298,
   "metadata": {},
   "outputs": [
    {
     "name": "stdout",
     "output_type": "stream",
     "text": [
      "   NAME  ROLL NO  THEORY  PRACTICALS\n",
      "0    Aa        1      97          10\n",
      "1    Bb        2      98          10\n",
      "2    Cc        3      93          10\n",
      "3    Dd        4      94          10\n",
      "4    Ee        5      92          98\n",
      "5    Ff        6       0           0\n",
      "6    Gg        7      97          10\n",
      "7    Hh        8      93          10\n",
      "8    Ii        9      90          10\n",
      "9    Jj       10     100          10\n",
      "10   Kk       11      96          10\n",
      "11   Ll       12      95          10\n",
      "12   Mm       13     100          10\n",
      "13   Nn       14      91          10\n"
     ]
    }
   ],
   "source": [
    "import pandas as pd\n",
    "df=pd.read_csv(\"./data/Pandadata1.csv\")\n",
    "print(df)"
   ]
  },
  {
   "cell_type": "code",
   "execution_count": 299,
   "metadata": {},
   "outputs": [
    {
     "name": "stdout",
     "output_type": "stream",
     "text": [
      "NAME  ROLL NO  THEORY  PRACTICALS\n",
      "Aa    1        97      10            1\n",
      "Bb    2        98      10            1\n",
      "Cc    3        93      10            1\n",
      "Dd    4        94      10            1\n",
      "Ee    5        92      98            1\n",
      "Ff    6        0       0             1\n",
      "Gg    7        97      10            1\n",
      "Hh    8        93      10            1\n",
      "Ii    9        90      10            1\n",
      "Jj    10       100     10            1\n",
      "Kk    11       96      10            1\n",
      "Ll    12       95      10            1\n",
      "Mm    13       100     10            1\n",
      "Nn    14       91      10            1\n",
      "Name: count, dtype: int64\n"
     ]
    }
   ],
   "source": [
    "#counts the number of same rows in a dataframe\n",
    "count=df.value_counts()\n",
    "print(count)"
   ]
  },
  {
   "cell_type": "code",
   "execution_count": 300,
   "metadata": {},
   "outputs": [
    {
     "name": "stdout",
     "output_type": "stream",
     "text": [
      "PRACTICALS\n",
      "10    12\n",
      "98     1\n",
      "0      1\n",
      "Name: count, dtype: int64\n"
     ]
    }
   ],
   "source": [
    "#Specify the column name to count the number of values used in the column\n",
    "count1=df.PRACTICALS.value_counts()\n",
    "print(count1)"
   ]
  },
  {
   "cell_type": "markdown",
   "metadata": {},
   "source": [
    "19.  Renaming the columns"
   ]
  },
  {
   "cell_type": "code",
   "execution_count": 301,
   "metadata": {},
   "outputs": [
    {
     "name": "stdout",
     "output_type": "stream",
     "text": [
      "   NAME  REGISTER NO  THEORY  INTERNALS\n",
      "0    Aa            1      97         10\n",
      "1    Bb            2      98         10\n",
      "2    Cc            3      93         10\n",
      "3    Dd            4      94         10\n",
      "4    Ee            5      92         98\n",
      "5    Ff            6       0          0\n",
      "6    Gg            7      97         10\n",
      "7    Hh            8      93         10\n",
      "8    Ii            9      90         10\n",
      "9    Jj           10     100         10\n",
      "10   Kk           11      96         10\n",
      "11   Ll           12      95         10\n",
      "12   Mm           13     100         10\n",
      "13   Nn           14      91         10\n"
     ]
    }
   ],
   "source": [
    "import pandas as pd\n",
    "df=pd.read_csv(\"./data/Pandadata1.csv\")\n",
    "\n",
    "#Can rename multiple columns at once\n",
    "df=df.rename(columns={'ROLL NO':'REGISTER NO', 'PRACTICALS':'INTERNALS'})\n",
    "print(df)"
   ]
  }
 ],
 "metadata": {
  "kernelspec": {
   "display_name": "Python 3",
   "language": "python",
   "name": "python3"
  },
  "language_info": {
   "codemirror_mode": {
    "name": "ipython",
    "version": 3
   },
   "file_extension": ".py",
   "mimetype": "text/x-python",
   "name": "python",
   "nbconvert_exporter": "python",
   "pygments_lexer": "ipython3",
   "version": "3.11.4"
  },
  "orig_nbformat": 4
 },
 "nbformat": 4,
 "nbformat_minor": 2
}
